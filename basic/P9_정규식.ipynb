{
 "cells": [
  {
   "cell_type": "markdown",
   "metadata": {},
   "source": [
    "###정규식\n",
    "\n",
    "-정규 표현식\n",
    "-Regular Expression\n",
    "-복잡한 문자열을 처리할때 사용하는 기법\n",
    "    -문자열에서 원하는 데이터만 추출, 가공, 삭제 <=전처리/정제"
   ]
  },
  {
   "cell_type": "code",
   "execution_count": 1,
   "metadata": {},
   "outputs": [],
   "source": [
    "#1.모듈가져오기\n",
    "import re"
   ]
  },
  {
   "cell_type": "code",
   "execution_count": 127,
   "metadata": {},
   "outputs": [
    {
     "data": {
      "text/plain": [
       "'\\n방탄소년단(한국 한자: 防彈少年團,'"
      ]
     },
     "execution_count": 127,
     "metadata": {},
     "output_type": "execute_result"
    }
   ],
   "source": [
    "test_txt='''\n",
    "방탄소년단(한국 한자: 防彈少年團, 영어: BTS)은 2013년 6월 13일에 데뷔한 대한민국 빅히트 엔터테인먼트 소속의 7인조 보이 그룹이다.[1][2] 방탄소년단을 지칭하는 'BTS'는 본래 이름인 'Bangtan Boys' 혹은 'Bulletproof Boys Scouts'의 준말이었으며,[3] 2017년 빅히트 엔터테인먼트는 방탄소년단의 공식 로고를 교체하면서 과거와 미래를 아우르는 개념으로 의미를 확장시키고, 'Beyond The Scene'의 준말로 의미를 추가했다. 이는 매 순간 청춘의 장면들을 뛰어넘는다는 의미를 가지고 있다.[4][5][6]\n",
    "\n",
    "2013년 방탄소년단은 《2 COOL 4 SKOOL{학교 3부작}》을 발매하며 데뷔하였고, 이어 《O!RUL8,2?》도 발매하여 그 해 신인상을 수상했다. 2015년 《화양연화 pt.1》을 발매해 이 음반의 타이틀 곡 〈I NEED U〉가 가온 디지털 차트 5위권 내에 진입하게 되고, 첫 음악 방송 1위를 수상하였다. 이후 2016년에 발매한 《WINGS》가 흥행하면서 2016년 대한민국 최다 음반 판매량을 기록하였고, 타이틀 곡 〈피 땀 눈물〉은 첫 가온 디지털 차트 1위를 기록하게 되었다. 방탄소년단은 그 해 처음으로 대상을 수상하는 등의 성과를 거두었다.\n",
    "\n",
    "2017년에는 《YOU NEVER WALK ALONE》을 발매하고, 타이틀 곡 〈봄날〉은 2019년 현재까지 대한민국 주요 음원 차트에 최장기간 진입하였다. 이어서 《LOVE YOURSELF 承 'Her'》를 발매해 2017년 대한민국 최다 음반 판매량을 기록했다. 그리고, 타이틀 곡 〈DNA〉로 빌보드 핫 100에 처음으로 진입하였다. 또한, 2018년 발매한 《LOVE YOURSELF 轉 'Tear'》는 빌보드 200 1위를 기록하였고, 방탄소년단은 최초로 빌보드 200 1위를 차지한 대한민국의 음악 그룹이 되었다. 또한, 타이틀 곡 〈FAKE LOVE〉는 빌보드 핫 100 10위에 진입하면서 방탄소년단은 최초로 빌보드 핫 100 10위권 내에 진입한 대한민국의 음악 그룹이 되었다. 이어서 발매한 《LOVE YOURSELF 結 'Answer'》는 2018년 대한민국 최다 음반 판매량을 기록하고, 빌보드 200 1위를 기록하였다. 타이틀 곡 〈IDOL〉 역시 빌보드 핫 100 11위에 진입하였다. 그 해 방탄소년단은 대한민국 주요 음악 시상식의 대상들을 휩쓸었으며, 2019년 한국대중음악상에서 올해의 음악인을 2년 연속 수상하면서 음악성과 상업적 성과를 모두 인정 받은 음악 그룹이 되었다.\n",
    "\n",
    "이후 《MAP OF THE SOUL : PERSONA》를 발매하면서 발매 첫 주 213만 장의 음반 판매량을 기록해 대한민국 역대 음반 초동 1위라는 기록을 세웠다. 이 음반은 빌보드 200 1위를 기록하였고, 역대 대한민국에서 가장 많이 판매된 음반이 되었다. 이 음반의 타이틀 곡 〈작은 것들을 위한 시 (Boy With Luv)은 가온 차트 전 부문 1위를 기록하고 빌보드 핫 100위 중 8위에 진입하면서 이 곡은 방탄소년단의 가장 성공적인 곡이 되었다. 현재까지 방탄소년단은 전 세계 약 1,500만장의 음반 판매량을 기록하고, 대한민국 역대 최다 음반 판매량을 기록한 음악 그룹이 되었다. 방탄소년단은 24개의 엠넷 아시안 뮤직 어워드, 23개의 멜론 뮤직 어워드, 14개의 골든 디스크, 12개의 하이원 서울가요대상, 11개의 기네스 세계 기록, 10개의 가온 차트 뮤직 어워드, 6개의 MTV 유럽 뮤직 어워드, 4개의 아메리칸 뮤직 어워드와 빌보드 뮤직 어워드 및 한국대중음악상, 2개의 MTV 비디오 뮤직 어워드와 대한민국 대중문화예술상 등을 수상했으며, 대한민국 정부로부터 화관문화훈장을 수여받은 최연소 수여자이기도 하다.\n",
    "\n",
    "방탄소년단은 SNS를 통한 팬들과의 소통이 활발한 것으로 유명해 2017년과 2018년 전 세계에서 가장 많은 리트윗을 기록한 연예인이자 트위터 최다 활동 음악 그룹으로 기네스 세계 기록에 오르기도 했다. 이외에도 방탄소년단은 2017년 라인프렌즈와 협업하며 직접 창작한 캐릭터 〈BT21〉을 선보였고, 현재 다양한 캐릭터 상품을 출시하고 있다. 또한, 방탄소년단은 그룹명의 의미에 맞게 다수의 사회 활동 및 자선 활동에 참여하고 있으며, 2017년 소속사 빅히트 엔터테인먼트와 함께 세월호 침몰 사고 유가족들에게 1억원을 기부하기도 했다. 그리고 3년 째 유니세프와 함께 LOVE MYSELF 캠페인을 진행하면서 2018년 유엔 총회에서 연설을 하기도 했으며, 이를 계기로 '차세대 리더'라는 제목과 함께 타임지 표지를 장식하기도 했다. 방탄소년단의 팬덤은 아미(영어: ARMY)[7]이며, 방탄복과 군대처럼 방탄소년단도 팬클럽과 항상 함께라는 의미를 가지고 있다.[8][9]\n",
    "\n",
    "\n",
    "\n",
    "\n",
    "\n",
    "'''\n",
    "test_txt[:20]"
   ]
  },
  {
   "cell_type": "code",
   "execution_count": null,
   "metadata": {},
   "outputs": [],
   "source": [
    "#원문에서 한글 제거\n",
    "#한글 초성+중성+종성=>euc-kr, 16bit=>조합형 코드\n",
    "#한글 가,갸,거,겨,=>utf-8,    8bit=>완성형 코드\n",
    "#완성형기준=>ㄱ->ㅣ가~힣\n",
    "hangul=re.compile('[ㄱ-ㅣ가-힣]+')"
   ]
  },
  {
   "cell_type": "code",
   "execution_count": 6,
   "metadata": {},
   "outputs": [
    {
     "ename": "NameError",
     "evalue": "name 'hangul' is not defined",
     "output_type": "error",
     "traceback": [
      "\u001b[1;31m---------------------------------------------------------------------------\u001b[0m",
      "\u001b[1;31mNameError\u001b[0m                                 Traceback (most recent call last)",
      "\u001b[1;32m<ipython-input-6-d438516e2e8e>\u001b[0m in \u001b[0;36m<module>\u001b[1;34m\u001b[0m\n\u001b[1;32m----> 1\u001b[1;33m \u001b[0mhangul\u001b[0m\u001b[1;33m.\u001b[0m\u001b[0msub\u001b[0m\u001b[1;33m(\u001b[0m \u001b[1;34m''\u001b[0m\u001b[1;33m,\u001b[0m\u001b[0mtext_txt\u001b[0m \u001b[1;33m)\u001b[0m\u001b[1;33m[\u001b[0m\u001b[1;33m:\u001b[0m\u001b[1;36m100\u001b[0m\u001b[1;33m]\u001b[0m\u001b[1;33m\u001b[0m\u001b[1;33m\u001b[0m\u001b[0m\n\u001b[0m",
      "\u001b[1;31mNameError\u001b[0m: name 'hangul' is not defined"
     ]
    }
   ],
   "source": [
    "hangul.sub( '',text_txt )[:100]"
   ]
  },
  {
   "cell_type": "code",
   "execution_count": null,
   "metadata": {},
   "outputs": [],
   "source": [
    "alpha=re.compile('[a-zA-Z]+')"
   ]
  },
  {
   "cell_type": "code",
   "execution_count": 7,
   "metadata": {},
   "outputs": [
    {
     "ename": "NameError",
     "evalue": "name 'alpha' is not defined",
     "output_type": "error",
     "traceback": [
      "\u001b[1;31m---------------------------------------------------------------------------\u001b[0m",
      "\u001b[1;31mNameError\u001b[0m                                 Traceback (most recent call last)",
      "\u001b[1;32m<ipython-input-7-51f95a59737d>\u001b[0m in \u001b[0;36m<module>\u001b[1;34m\u001b[0m\n\u001b[1;32m----> 1\u001b[1;33m \u001b[0malpha\u001b[0m\u001b[1;33m.\u001b[0m\u001b[0msub\u001b[0m\u001b[1;33m(\u001b[0m\u001b[1;34m''\u001b[0m\u001b[1;33m,\u001b[0m\u001b[0mtest_txt\u001b[0m\u001b[1;33m)\u001b[0m\u001b[1;33m[\u001b[0m\u001b[1;33m:\u001b[0m\u001b[1;36m100\u001b[0m\u001b[1;33m]\u001b[0m\u001b[1;33m\u001b[0m\u001b[1;33m\u001b[0m\u001b[0m\n\u001b[0m",
      "\u001b[1;31mNameError\u001b[0m: name 'alpha' is not defined"
     ]
    }
   ],
   "source": [
    "alpha.sub('',test_txt)[:100]"
   ]
  },
  {
   "cell_type": "markdown",
   "metadata": {},
   "source": [
    "-메타문자 (meta characters)\n",
    "    -일반표현: |,^ $ * + ? {} () []\n",
    "    -이스케이프 표현:\\d \\D \\s \\S \\W \\b \\B...\n",
    "    \n",
    "-함수\n",
    "    -match()\n",
    "    -search()\n",
    "    -findall()\n",
    "    -finditer()\n",
    "    -sub()\n",
    "    \n",
    "-그룹핑\n",
    "-전망탐색\n",
    "    -긍정형 전방 탐색\n",
    "    -부정형 전방 탐색\n",
    "    \n",
    "-컴파일 옵션\n",
    "    "
   ]
  },
  {
   "cell_type": "markdown",
   "metadata": {},
   "source": [
    "-1. 데이터를 보고, 정제 및 추출을 할수 있는 표현식을 구현한후\n",
    "-2. 정제 및 추출을 할수 있는 표현식을 구현한후<=정규식을 구현\n",
    "-3. 함수를 써서 데이터를 획득한다<=최종 추출"
   ]
  },
  {
   "cell_type": "markdown",
   "metadata": {},
   "source": [
    "###메타문자\n",
    "-**|**\n",
    "-의미:or\n"
   ]
  },
  {
   "cell_type": "code",
   "execution_count": 3,
   "metadata": {},
   "outputs": [
    {
     "name": "stdout",
     "output_type": "stream",
     "text": [
      "1. 매치된다\n",
      "2. 매치된다\n",
      "3. 매치된다\n"
     ]
    }
   ],
   "source": [
    "#re.match( 정규식, 데이터)=>True/False\n",
    "#re.match():특정 패턴이 데이터에 적용이 되었는지를 검사\n",
    "if re.match('a|b|c','a'): print('1. 매치된다')\n",
    "if re.match('a|b|c','b'): print('2. 매치된다')   \n",
    "if re.match('a|b|c','c'): print('3. 매치된다')"
   ]
  },
  {
   "cell_type": "code",
   "execution_count": 7,
   "metadata": {},
   "outputs": [
    {
     "name": "stdout",
     "output_type": "stream",
     "text": [
      "5. 매치된다\n"
     ]
    }
   ],
   "source": [
    "if re.match('a|b|c','d'): print('4. 매치된다')\n",
    "#한개라도 일치되는게 있으면 참\n",
    "if re.match('a|b|c','ad'): print('5. 매치된다')\n",
    "#a나 b나 c중에 하나가 가장먼저 시작한다(첫글자)->False\n",
    "if re.match('a|b|c','da'): print('6. 매치된다')"
   ]
  },
  {
   "cell_type": "markdown",
   "metadata": {},
   "source": [
    "-**[]**\n",
    "-의미:문자 클레스\n",
    "-.[와 ],것 사이에는 어떤 문자도 들어갈수 있다\n",
    "-.[].는 문자 한개를 의미한다\n",
    "-match(시작단어).search(전체중에일치되는단어)를 사용할경우 한개만 일치되도 참"
   ]
  },
  {
   "cell_type": "code",
   "execution_count": 13,
   "metadata": {},
   "outputs": [
    {
     "name": "stdout",
     "output_type": "stream",
     "text": [
      "1. 매치된다\n",
      "3. 매치된다\n",
      "4. 매치된다\n",
      "5. 매치된다\n"
     ]
    }
   ],
   "source": [
    "#문자열은 a, b, c중에 하나가 시작문자여야 한다\n",
    "if re.match('[abc]','a'):print('1. 매치된다')\n",
    "if re.match('[abc]','efz'):print('2. 매치된다')\n",
    "if re.match('[abc]','abd'):print('3. 매치된다')\n",
    "if re.match('[abc]','b56'):print('4. 매치된다')\n",
    "    \n",
    "if re.search('[abc]','56b'):print('5. 매치된다')                "
   ]
  },
  {
   "cell_type": "markdown",
   "metadata": {},
   "source": [
    "-**-**\n",
    "-의미:.[].문자클레스 안에 두개의 문자 사이에 표현하면\n",
    "-from-to:어디서부터 어디까지 범위를 표현"
   ]
  },
  {
   "cell_type": "code",
   "execution_count": 15,
   "metadata": {},
   "outputs": [
    {
     "name": "stdout",
     "output_type": "stream",
     "text": [
      "1. 매치된다\n",
      "2. 매치된다\n"
     ]
    }
   ],
   "source": [
    "if re.match('[0123456789]','1'):print('1. 매치된다')\n",
    "if re.match('[0-9]','1'):print('2. 매치된다')   \n",
    "   \n",
    "  "
   ]
  },
  {
   "cell_type": "code",
   "execution_count": 18,
   "metadata": {},
   "outputs": [
    {
     "name": "stdout",
     "output_type": "stream",
     "text": [
      "4,매치된다\n"
     ]
    }
   ],
   "source": [
    "if re.match('[a-zA-Z]','1'):print('3. 매치된다')\n",
    "if re.match('[a-zA-Z]','B') :print   ('4,매치된다')\n",
    "    "
   ]
  },
  {
   "cell_type": "code",
   "execution_count": 20,
   "metadata": {},
   "outputs": [
    {
     "name": "stdout",
     "output_type": "stream",
     "text": [
      "6. 매치된다\n"
     ]
    }
   ],
   "source": [
    "if re.match('[0-9a-z]','Aa'):print('5. 매치된다')\n",
    "#문자열내에 존재하기만 하면 체크됨    \n",
    "if re.search('[0-9a-z]','1'):print('6. 매치된다')    \n",
    "    "
   ]
  },
  {
   "cell_type": "code",
   "execution_count": 22,
   "metadata": {},
   "outputs": [
    {
     "name": "stdout",
     "output_type": "stream",
     "text": [
      "7. 매치된다\n"
     ]
    }
   ],
   "source": [
    "#한글 완성형코드(utf-8)\n",
    "if re.match('[ㄱ-힣]','가나다bc'):print('7. 매치된다')"
   ]
  },
  {
   "cell_type": "markdown",
   "metadata": {},
   "source": [
    "-**.**-\n",
    "\n",
    "-의미 : dot(.)줄바꿈 기호 \\n를 제외하고 모든 문자에 매치=>.[].문자 클레스가 아닌곳에서 해당.문자 클레스 내부에서는 .은 .이다"
   ]
  },
  {
   "cell_type": "code",
   "execution_count": 32,
   "metadata": {},
   "outputs": [
    {
     "name": "stdout",
     "output_type": "stream",
     "text": [
      "1. 매치된다\n",
      "2. 매치된다\n",
      "4. 매치된다\n",
      "5. 매치된다\n",
      "6. 매치된다\n",
      "7. 매치된다\n",
      "9. 매치된다\n"
     ]
    }
   ],
   "source": [
    "if re.match('[a.b]','a'):print('1. 매치된다')\n",
    "if re.match('[a.b]','b'):print('2. 매치된다')  \n",
    "if re.match('[a.b]','c'):print('3. 매치된다')  \n",
    "\n",
    "if re.match('[a.b]','ab'):print('4. 매치된다')\n",
    "if re.match('[a.b]','a1b'):print('5. 매치된다')  \n",
    "if re.match('[a.b]','abc'):print('6. 매치된다') \n",
    "if re.match('[a.b]','bcd'):print('7. 매치된다')      \n",
    "if re.match('[a.b]','cab'):print('8. 매치된다')      \n",
    "      \n",
    "if re.match('[a.b]','.ab'):print('9. 매치된다')      \n",
    "    \n",
    "    "
   ]
  },
  {
   "cell_type": "code",
   "execution_count": 30,
   "metadata": {},
   "outputs": [
    {
     "name": "stdout",
     "output_type": "stream",
     "text": [
      "3. 매치된다\n",
      "4. 매치된다\n"
     ]
    }
   ],
   "source": [
    "if re.match('a.b','a'):print('1. 매치된다')  \n",
    "if re.match('a.b','abc'):print('2. 매치된다')  \n",
    "if re.match('a.b','a1b'):print('3. 매치된다')  \n",
    "if re.match('a.b','a1be'):print('4. 매치된다')  \n",
    "            \n",
    "    "
   ]
  },
  {
   "cell_type": "markdown",
   "metadata": {},
   "source": [
    "-**^**\n",
    "-의미:일반문자열=>문자열의 맨 처음과 일치함을 의미\n",
    "      문자클레스내=>배제,해당 문자 배제\n",
    "      re.MULTILINE=>각 라인의 처음과 일치함을 조사\n",
    "      \n",
    "\n",
    "-**$**\n",
    "-의미:문자열의 맨끝과 일치\n",
    "\n",
    "\n",
    "\n",
    "-*\n",
    "-의미:*를 붙인 바로 앞문자 0~무한대 반복\n",
    "\n",
    "\n",
    "\n",
    "-**+**\n",
    "-의미:+를 붙인 바로 앞문자 1~무한대\n",
    "      문자열 클레스 내부에서 기술하면, 단순 +가 될수도 있고, 반복의 의미가 될수도 있다(주변값을 고려해서 해석)\n",
    "\n",
    "\n"
   ]
  },
  {
   "cell_type": "code",
   "execution_count": 36,
   "metadata": {},
   "outputs": [
    {
     "name": "stdout",
     "output_type": "stream",
     "text": [
      "1. 매치된다\n"
     ]
    }
   ],
   "source": [
    "#숫자나 .으로 시작하고 끝난다\n",
    "if re.match('^[0-9\\.]$','1'):print('1. 매치된다')  \n"
   ]
  },
  {
   "cell_type": "code",
   "execution_count": 37,
   "metadata": {},
   "outputs": [
    {
     "name": "stdout",
     "output_type": "stream",
     "text": [
      "1. 매치된다\n"
     ]
    }
   ],
   "source": [
    "if re.match('^[0-9\\.]$','.'):print('1. 매치된다')  "
   ]
  },
  {
   "cell_type": "code",
   "execution_count": 38,
   "metadata": {},
   "outputs": [
    {
     "name": "stdout",
     "output_type": "stream",
     "text": [
      "1. 매치된다\n",
      "2. 매치된다\n",
      "3. 매치된다\n",
      "4. 매치된다\n"
     ]
    }
   ],
   "source": [
    "#문자열은 1개->문자의 수량에서 False가 되었다=>해결방안:* or +\n",
    "if re.match('^[0-9\\.]+$','11'):print('1. 매치된다')  \n",
    "if re.match('^[0-9\\.]+$','1.'):print('2. 매치된다')   \n",
    "if re.match('^[0-9\\.]*$','.1'):print('3. 매치된다')  \n",
    "if re.match('^[0-9\\.]*$','..'):print('4. 매치된다')      "
   ]
  },
  {
   "cell_type": "code",
   "execution_count": 42,
   "metadata": {},
   "outputs": [],
   "source": [
    "#정규식의 패턴이 늘어감에 따라 match 종합적인 조건을 따지게된다\n",
    "#시작문자 and 끝문자 and 문자수 and 문자 성분\n",
    "if re.match('^[0-9\\.]*$','.asdf'):print('4. 매치된다')  \n",
    "if re.match('^[0-9\\.]*$','.0sdf'):print('4. 매치된다')      "
   ]
  },
  {
   "cell_type": "code",
   "execution_count": 41,
   "metadata": {},
   "outputs": [
    {
     "name": "stdout",
     "output_type": "stream",
     "text": [
      "2. 매치된다\n",
      "3. 매치된다\n",
      "4. 매치된다\n"
     ]
    }
   ],
   "source": [
    "#[^0-9]:숫자를 제외하고 모든 문자가 시작문자가 될수 있다\n",
    "if re.match('[^0-9]','1'):print('1. 매치된다')  \n",
    "if re.match('[^0-9]','가'):print('2. 매치된다')     \n",
    "if re.match('[^0-9]','a'):print('3. 매치된다')     \n",
    "if re.match('[^0-9]','ab'):print('4. 매치된다')     \n",
    "    "
   ]
  },
  {
   "cell_type": "code",
   "execution_count": 62,
   "metadata": {},
   "outputs": [
    {
     "data": {
      "text/plain": [
       "'류현진 국내 매니지먼트를 담당하는 에이스펙 코퍼레이션은 “류현진 이 25일 출국할 예정”이라고 전했다. 류현진 은 메디컬테스트를 받고 이상이 발견되지 않으면 현지에서 입단 기자회견도 소화할 계획이다.\\n\\n\\n류현진 자유계약선수(FA) 신분인 류현진은 23일 토론토와 4년 8000만 달러(약 929억4000만 원)에 입단하기로 합의했다. 국내에서 훈련하던 류현진 을 대신해 에이전트 스콜 보라스가 협상을 진행했고, 토론토가 내민 조건에 합의했다. 미국과 캐나다 현지에서 기사가 쏟아졌지만 구단은 아직 확정 발표를 하지 않았다.\\n\\n\\n류현진 한국인 투수 FA 최대 규모 계약은 \\n\\n\\n박찬호가 2001년 12월 21일 텍사스 레인저스와 맺은 5년 6500만 달러다. 류현진 은 메디컬테스트를 통과하고 정식 계약서에 사인하는 순간 한국인 투수 FA 역대 최대 규모 계약의 주인공이 된다.\\n\\n\\n'"
      ]
     },
     "execution_count": 62,
     "metadata": {},
     "output_type": "execute_result"
    }
   ],
   "source": [
    "data='''류현진 국내 매니지먼트를 담당하는 에이스펙 코퍼레이션은 “류현진 이 25일 출국할 예정”이라고 전했다. 류현진 은 메디컬테스트를 받고 이상이 발견되지 않으면 현지에서 입단 기자회견도 소화할 계획이다.\n",
    "\n",
    "\n",
    "류현진 자유계약선수(FA) 신분인 류현진은 23일 토론토와 4년 8000만 달러(약 929억4000만 원)에 입단하기로 합의했다. 국내에서 훈련하던 류현진 을 대신해 에이전트 스콜 보라스가 협상을 진행했고, 토론토가 내민 조건에 합의했다. 미국과 캐나다 현지에서 기사가 쏟아졌지만 구단은 아직 확정 발표를 하지 않았다.\n",
    "\n",
    "\n",
    "류현진 한국인 투수 FA 최대 규모 계약은 \n",
    "\n",
    "\n",
    "박찬호가 2001년 12월 21일 텍사스 레인저스와 맺은 5년 6500만 달러다. 류현진 은 메디컬테스트를 통과하고 정식 계약서에 사인하는 순간 한국인 투수 FA 역대 최대 규모 계약의 주인공이 된다.\n",
    "\n",
    "\n",
    "'''\n",
    "data\n",
    "#특정 단어가 시작문자로 여러줄에 걸쳐서 등장한다"
   ]
  },
  {
   "cell_type": "code",
   "execution_count": 58,
   "metadata": {},
   "outputs": [],
   "source": [
    "# 정규식을 컴파일하고,\n",
    "# 이를 이용하여 데이터를 처리한다\n",
    "# \\s:whitespace(공백, 탭....)\n",
    "# \\w:한단어(+*통해서 늘릴수 있다)\n",
    "# 류현진으로 시작하고 한칸 띠고 단어한덩어리까지로 시작하는 문자열\n",
    "p=re.compile('^류현진\\s\\w+')"
   ]
  },
  {
   "cell_type": "code",
   "execution_count": 64,
   "metadata": {},
   "outputs": [
    {
     "data": {
      "text/plain": [
       "['류현진 국내', '류현진 이', '류현진 은', '류현진 자유계약선수', '류현진 을', '류현진 한국인', '류현진 은']"
      ]
     },
     "execution_count": 64,
     "metadata": {},
     "output_type": "execute_result"
    }
   ],
   "source": [
    "#한번밖에 안나온다=>멀티 라인 미지원\n",
    "p.findall( data )"
   ]
  },
  {
   "cell_type": "code",
   "execution_count": 63,
   "metadata": {},
   "outputs": [
    {
     "data": {
      "text/plain": [
       "['류현진 국내', '류현진 이', '류현진 은', '류현진 자유계약선수', '류현진 을', '류현진 한국인', '류현진 은']"
      ]
     },
     "execution_count": 63,
     "metadata": {},
     "output_type": "execute_result"
    }
   ],
   "source": [
    "#문자열 전체에 동일 패턴이 보이면 다 수집\n",
    "p=re.compile(  '류현진\\s\\w+', re.MULTILINE)\n",
    "p.findall(data)"
   ]
  },
  {
   "cell_type": "code",
   "execution_count": 66,
   "metadata": {},
   "outputs": [
    {
     "name": "stdout",
     "output_type": "stream",
     "text": [
      "3. 매치된다\n"
     ]
    }
   ],
   "source": [
    "#$:문자열의 끝 패턴\n",
    "if re.match('^[0-9]+[a-z]+$','1'):print('1. 매치된다') \n",
    "if re.match('^[0-9]+[a-z]+$','11'):print('2. 매치된다') \n",
    "if re.match('^[0-9]+[a-z]+$','1111a'):print('3. 매치된다')     \n",
    "if re.match('^[0-9]+[a-z]+$','111111A'):print('4. 매치된다')    \n",
    "    \n",
    "    "
   ]
  },
  {
   "cell_type": "code",
   "execution_count": 67,
   "metadata": {},
   "outputs": [
    {
     "name": "stdout",
     "output_type": "stream",
     "text": [
      "1. 매치된다\n",
      "12. 매치된다\n",
      "13. 매치된다\n"
     ]
    }
   ],
   "source": [
    "#반복\n",
    "#*:0~무한대\n",
    "if re.match('bus*an','buan'):print('1. 매치된다') \n",
    "if re.match('bus*an','busan'):print('12. 매치된다')   \n",
    "if re.match('bus*an','bussan'):print('13. 매치된다')     "
   ]
  },
  {
   "cell_type": "code",
   "execution_count": 68,
   "metadata": {},
   "outputs": [
    {
     "name": "stdout",
     "output_type": "stream",
     "text": [
      "12. 매치된다\n",
      "13. 매치된다\n"
     ]
    }
   ],
   "source": [
    "#+:1~무한대\n",
    "if re.match('bus+an','buan'):print('1. 매치된다') \n",
    "if re.match('bus+an','busan'):print('12. 매치된다')   \n",
    "if re.match('bus+an','bussan'):print('13. 매치된다')     "
   ]
  },
  {
   "cell_type": "markdown",
   "metadata": {},
   "source": [
    "-{}\n",
    "    -반복 횟수 지정\n",
    "    -{2} 2번 반복\n",
    "    -{2,3} 2부터 3까지 반복\n",
    "-?   \n",
    "    -{0,1}\n",
    "    -0번 OK, 1번 OK\n",
    "    -않나오던지, 나오면 1번만 나오던지"
   ]
  },
  {
   "cell_type": "code",
   "execution_count": 69,
   "metadata": {},
   "outputs": [
    {
     "name": "stdout",
     "output_type": "stream",
     "text": [
      "3. 매치된다\n"
     ]
    }
   ],
   "source": [
    "if re.match('bus{2}an','buan'):print('1. 매치된다') \n",
    "if re.match('bus{2}an','busan'):print('2. 매치된다') \n",
    "if re.match('bus{2}an','bussan'):print('3. 매치된다') \n"
   ]
  },
  {
   "cell_type": "code",
   "execution_count": 70,
   "metadata": {},
   "outputs": [
    {
     "name": "stdout",
     "output_type": "stream",
     "text": [
      "1. 매치된다\n"
     ]
    }
   ],
   "source": [
    "#문자 클레스 안에서는 본질적인 의미가 없어진다.그냥 문자로본다\n",
    "if re.match('[bus{2}an]','buan'):print('1. 매치된다') "
   ]
  },
  {
   "cell_type": "code",
   "execution_count": 75,
   "metadata": {},
   "outputs": [
    {
     "name": "stdout",
     "output_type": "stream",
     "text": [
      "3. 매치된다\n",
      "4. 매치된다\n"
     ]
    }
   ],
   "source": [
    "#m~n까지\n",
    "if re.match('bus{2,3}an','buan'):print('1. 매치된다') \n",
    "if re.match('bus{2,3}an','busan'):print('2. 매치된다') \n",
    "if re.match('bus{2,3}an','bussan'):print('3. 매치된다') \n",
    "if re.match('bus{2,3}an','busssan'):print('4. 매치된다') \n",
    "if re.match('bus{2,3}an','busssssan'):print('5. 매치된다') "
   ]
  },
  {
   "cell_type": "code",
   "execution_count": 74,
   "metadata": {},
   "outputs": [
    {
     "name": "stdout",
     "output_type": "stream",
     "text": [
      "3. 매치된다\n",
      "4. 매치된다\n"
     ]
    }
   ],
   "source": [
    "\n",
    "if re.match('bus{2,4}an','buan'):print('1. 매치된다') \n",
    "if re.match('bus{2,4}an','busan'):print('2. 매치된다') \n",
    "if re.match('bus{2,4}an','bussan'):print('3. 매치된다') \n",
    "if re.match('bus{2,4}an','busssan'):print('4. 매치된다') \n",
    "if re.match('bus{2,4}an','busssssan'):print('5. 매치된다') "
   ]
  },
  {
   "cell_type": "code",
   "execution_count": 76,
   "metadata": {},
   "outputs": [
    {
     "name": "stdout",
     "output_type": "stream",
     "text": [
      "1. 매치된다\n",
      "2. 매치된다\n"
     ]
    }
   ],
   "source": [
    "if re.match('bus?an','buan'):print('1. 매치된다') \n",
    "if re.match('bus?an','busan'):print('2. 매치된다') \n",
    "if re.match('bus?an','bussan'):print('3. 매치된다') \n"
   ]
  },
  {
   "cell_type": "code",
   "execution_count": 82,
   "metadata": {},
   "outputs": [
    {
     "name": "stdout",
     "output_type": "stream",
     "text": [
      "1. 매치된다\n"
     ]
    }
   ],
   "source": [
    "#핸드폰 전화번호 정규식\n",
    "#010-숫자4개-숫자4개\n",
    "if re.match('^010-[0-9]{4}-[0-9]{4}$','010-1234-5678'):\n",
    "    print('1. 매치된다')  "
   ]
  },
  {
   "cell_type": "markdown",
   "metadata": {},
   "source": [
    "###메타문자>이스케이프\n",
    "-\\d<->\\D\n",
    "-\\s<->\\S\n",
    "-\\w<->\\W\n",
    "-\\b<->\\B\n",
    "-기타\n",
    "    -문자클레스에서 특수문자,화이트스페이스등을 표현할때\n",
    "    - .=>\\.이런식으로 표현할수 있다"
   ]
  },
  {
   "cell_type": "code",
   "execution_count": 86,
   "metadata": {},
   "outputs": [
    {
     "name": "stdout",
     "output_type": "stream",
     "text": [
      "1. 매치된다\n"
     ]
    }
   ],
   "source": [
    "#\\d:숫자=>[0-9]\n",
    "if re.match('[\\d]','1'):print('1. 매치된다')\n",
    "if re.match('[\\d]','a'):print('2. 매치된다')"
   ]
  },
  {
   "cell_type": "code",
   "execution_count": 87,
   "metadata": {},
   "outputs": [
    {
     "name": "stdout",
     "output_type": "stream",
     "text": [
      "2. 매치된다\n"
     ]
    }
   ],
   "source": [
    "#\\D:숫자말고나머지=>[^0-9]\n",
    "if re.match('[\\D]','1'):print('1. 매치된다')\n",
    "if re.match('[\\D]','a'):print('2. 매치된다')"
   ]
  },
  {
   "cell_type": "code",
   "execution_count": 89,
   "metadata": {},
   "outputs": [
    {
     "name": "stdout",
     "output_type": "stream",
     "text": [
      "1.매치된다\n"
     ]
    }
   ],
   "source": [
    "#\\s->whitespace:\\t,\\n,\\r,\\f,\\v\n",
    "#수평탭,개행,캐리지리턴,폼 피드,수직탭=>눈에 보이지않고, 공백처럼 보이면서,\n",
    "#공백처럼 보이면서 문자열상에 정보를 제공 문자\n",
    "if re.match('[\\s]','\\t\\n\\r\\f\\v'):print('1.매치된다')\n",
    "if re.match('[\\s]','a \\t\\n\\r\\f\\v'):print('2. 매치된다')\n",
    "  "
   ]
  },
  {
   "cell_type": "code",
   "execution_count": 90,
   "metadata": {},
   "outputs": [
    {
     "name": "stdout",
     "output_type": "stream",
     "text": [
      "2. 매치된다\n"
     ]
    }
   ],
   "source": [
    "if re.match('[\\S]','\\t\\n\\r\\f\\v'):print('1.매치된다')\n",
    "if re.match('[\\S]','a \\t\\n\\r\\f\\v'):print('2. 매치된다')"
   ]
  },
  {
   "cell_type": "code",
   "execution_count": null,
   "metadata": {},
   "outputs": [],
   "source": [
    "#\\w->문자, 숫자와 매치:[a-zA-Z0-9ㄱ-힣],언어면 다 OK"
   ]
  },
  {
   "cell_type": "code",
   "execution_count": null,
   "metadata": {},
   "outputs": [],
   "source": [
    "#\\W->문자, 숫자가 아닌 문자와 매치, 특수문자, 이스케이프문자\n",
    "#[^a-zA-Z0-9ㄱ-힣]"
   ]
  },
  {
   "cell_type": "code",
   "execution_count": 92,
   "metadata": {},
   "outputs": [
    {
     "name": "stdout",
     "output_type": "stream",
     "text": [
      "1.매치된다\n",
      "2.매치된다\n",
      "3.매치된다\n",
      "4.매치된다\n",
      "6 매치된다\n"
     ]
    }
   ],
   "source": [
    "if re.match('[\\w]','a0'):print('1.매치된다')\n",
    "if re.match('[\\w]','가'):print('2.매치된다')    \n",
    "if re.match('[\\w]','1'):print('3.매치된다')    \n",
    "if re.match('[\\w]','a'):print('4.매치된다')\n",
    "    \n",
    "if re.match('[\\W]','a'):print('5 매치된다')  \n",
    "if re.match('[\\W]','\\t'):print('6 매치된다')       \n",
    "       "
   ]
  },
  {
   "cell_type": "code",
   "execution_count": 93,
   "metadata": {},
   "outputs": [
    {
     "name": "stdout",
     "output_type": "stream",
     "text": [
      "ABC가나다\t]\n",
      "라\n"
     ]
    }
   ],
   "source": [
    "a='ABC가나다\\t]\\n라'\n",
    "print(a)"
   ]
  },
  {
   "cell_type": "code",
   "execution_count": 95,
   "metadata": {},
   "outputs": [
    {
     "name": "stdout",
     "output_type": "stream",
     "text": [
      "[ABC가나다\\t]\\n라 <class 'str'>\n"
     ]
    }
   ],
   "source": [
    "#만약 데이터 그래도 받고 싶다면\n",
    "#Raw String\n",
    "#이스케이프 문자가 적용되지 않는다\n",
    "a=r'[ABC가나다\\t]\\n라'\n",
    "print(a,type(a))"
   ]
  },
  {
   "cell_type": "code",
   "execution_count": 97,
   "metadata": {},
   "outputs": [],
   "source": [
    "#\\b 단어구분자(word boundary)\n",
    "#일단 단어는 whitespace로 구분된다\n",
    "#\\b는 일반단어에서 백키로 인식한다. 이 자체를 그대로 인식하게\n",
    "#하기위해서 raw string으로 표현해야 한다\n",
    "\n",
    "p=re.compile(r'\\bclass\\b')"
   ]
  },
  {
   "cell_type": "code",
   "execution_count": 98,
   "metadata": {},
   "outputs": [
    {
     "name": "stdout",
     "output_type": "stream",
     "text": [
      "<re.Match object; span=(3, 8), match='class'> class\n"
     ]
    }
   ],
   "source": [
    "m=p.search('no class at 1234')\n",
    "print(m,m.group())"
   ]
  },
  {
   "cell_type": "code",
   "execution_count": 99,
   "metadata": {},
   "outputs": [
    {
     "name": "stdout",
     "output_type": "stream",
     "text": [
      "None\n"
     ]
    }
   ],
   "source": [
    "m=p.search('the classifier at one')\n",
    "print(m)"
   ]
  },
  {
   "cell_type": "markdown",
   "metadata": {},
   "source": [
    "###함수\n",
    "\n",
    "-match()\n",
    "    -문자열의 처음부터 정규식과 매칭되는지 조사\n",
    "-search()\n",
    "    -문자열 전체를 검색하여 매칭되는지 조사\n",
    "-fidall()\n",
    "    -정규식에 매칭되는 모든 문자열을 리스트로 리턴\n",
    "-finditer()\n",
    "    -정규식에 매칭되는 모든 문자열을 iterator로 리턴\n",
    "-sub()\n",
    "    -규칙과 매칭되는 부분을 다른 문자로 변경"
   ]
  },
  {
   "cell_type": "code",
   "execution_count": 100,
   "metadata": {},
   "outputs": [],
   "source": [
    "#숫자가 나오고, 1~무한대로 반복될수 있다\n",
    "p=re.compile('[0-9]+')"
   ]
  },
  {
   "cell_type": "code",
   "execution_count": 101,
   "metadata": {},
   "outputs": [
    {
     "name": "stdout",
     "output_type": "stream",
     "text": [
      "None\n"
     ]
    }
   ],
   "source": [
    "r=p.match('abcd5')\n",
    "print(r)"
   ]
  },
  {
   "cell_type": "code",
   "execution_count": 104,
   "metadata": {},
   "outputs": [
    {
     "name": "stdout",
     "output_type": "stream",
     "text": [
      "<re.Match object; span=(0, 1), match='5'>\n",
      "5 일치되는 데이터가 나온다\n"
     ]
    }
   ],
   "source": [
    "r=p.match('5')\n",
    "print(r)\n",
    "if r:\n",
    "    print(r.group(),'일치되는 데이터가 나온다')"
   ]
  },
  {
   "cell_type": "code",
   "execution_count": 107,
   "metadata": {},
   "outputs": [
    {
     "name": "stdout",
     "output_type": "stream",
     "text": [
      "<re.Match object; span=(0, 3), match='123'>\n",
      "123 일치되는 데이터가 나온다\n"
     ]
    }
   ],
   "source": [
    "r=p.match('123abcd')\n",
    "print(r)\n",
    "if r:\n",
    "    print(r.group(),'일치되는 데이터가 나온다')\n",
    "else:\n",
    "    print('일치되는 데이터가 없다')"
   ]
  },
  {
   "cell_type": "code",
   "execution_count": 116,
   "metadata": {},
   "outputs": [],
   "source": [
    "data='i am a HuMan. 2020 가나다라마바사 !@#$'\n",
    "#소문자만 찾아서 소문자 글자 리스트를 리턴해라\n",
    "\n",
    "p=re.compile('[a-z]+')"
   ]
  },
  {
   "cell_type": "code",
   "execution_count": 117,
   "metadata": {},
   "outputs": [
    {
     "data": {
      "text/plain": [
       "<re.Match object; span=(0, 1), match='i'>"
      ]
     },
     "execution_count": 117,
     "metadata": {},
     "output_type": "execute_result"
    }
   ],
   "source": [
    "r=p.match(data)\n",
    "r"
   ]
  },
  {
   "cell_type": "code",
   "execution_count": 118,
   "metadata": {},
   "outputs": [
    {
     "data": {
      "text/plain": [
       "['i', 'am', 'a', 'u', 'an']"
      ]
     },
     "execution_count": 118,
     "metadata": {},
     "output_type": "execute_result"
    }
   ],
   "source": [
    "p.findall(data)"
   ]
  },
  {
   "cell_type": "code",
   "execution_count": 120,
   "metadata": {},
   "outputs": [
    {
     "name": "stdout",
     "output_type": "stream",
     "text": [
      "i 0 1 (0, 1)\n",
      "am 2 4 (2, 4)\n",
      "a 5 6 (5, 6)\n",
      "u 8 9 (8, 9)\n",
      "an 10 12 (10, 12)\n"
     ]
    }
   ],
   "source": [
    "r=p.finditer(data)\n",
    "for n in r:\n",
    "    #실제값, 시작인덱스,글인덱스,인덱스 튜플값\n",
    "    print( n.group(),n.start(),n.end(),n.span() )"
   ]
  },
  {
   "cell_type": "code",
   "execution_count": 121,
   "metadata": {},
   "outputs": [],
   "source": [
    "#매치되는 부분을 다른 문자로 변경\n",
    "p=re.compile('(blue|red|white)')"
   ]
  },
  {
   "cell_type": "code",
   "execution_count": 122,
   "metadata": {},
   "outputs": [
    {
     "data": {
      "text/plain": [
       "'색상 케이크 그리고 색상 와인을 가지고 집에가세요'"
      ]
     },
     "execution_count": 122,
     "metadata": {},
     "output_type": "execute_result"
    }
   ],
   "source": [
    "#문자열 대체\n",
    "p.sub('색상','white 케이크 그리고 red 와인을 가지고 집에가세요')"
   ]
  },
  {
   "cell_type": "code",
   "execution_count": 123,
   "metadata": {},
   "outputs": [
    {
     "data": {
      "text/plain": [
       "' 케이크 그리고  와인을 가지고 집에가세요'"
      ]
     },
     "execution_count": 123,
     "metadata": {},
     "output_type": "execute_result"
    }
   ],
   "source": [
    "#제거\n",
    "p.sub('','white 케이크 그리고 red 와인을 가지고 집에가세요')"
   ]
  },
  {
   "cell_type": "code",
   "execution_count": null,
   "metadata": {},
   "outputs": [],
   "source": []
  },
  {
   "cell_type": "code",
   "execution_count": 132,
   "metadata": {},
   "outputs": [
    {
     "data": {
      "text/plain": [
       "\"    BTS           [][]   'BTS'   'Bangtan Boys'  'Bulletproof Boys Scouts' []              'Beyond T\""
      ]
     },
     "execution_count": 132,
     "metadata": {},
     "output_type": "execute_result"
    }
   ],
   "source": [
    "#한글\n",
    "#문자 클레스내에 특수문자 표시 앞에 \\를 추가해도되고, 뺴도 된다\n",
    "han=re.compile('[ㄱ-힣\\n:\\:\\:\\(\\)\\,\\.0-9\\-]+')\n",
    "han.sub('',test_txt)[:100]"
   ]
  },
  {
   "cell_type": "markdown",
   "metadata": {},
   "source": [
    "###그룹핑"
   ]
  },
  {
   "cell_type": "code",
   "execution_count": 133,
   "metadata": {},
   "outputs": [],
   "source": [
    "p=re.compile('(123)+')"
   ]
  },
  {
   "cell_type": "code",
   "execution_count": 134,
   "metadata": {},
   "outputs": [
    {
     "data": {
      "text/plain": [
       "<re.Match object; span=(0, 12), match='123123123123'>"
      ]
     },
     "execution_count": 134,
     "metadata": {},
     "output_type": "execute_result"
    }
   ],
   "source": [
    "m=p.search('123123123123 123123 check?')\n",
    "m"
   ]
  },
  {
   "cell_type": "code",
   "execution_count": 135,
   "metadata": {},
   "outputs": [
    {
     "data": {
      "text/plain": [
       "('123123123123', '123123123123', '123')"
      ]
     },
     "execution_count": 135,
     "metadata": {},
     "output_type": "execute_result"
    }
   ],
   "source": [
    "m.group(),m.group(0),m.group(1)"
   ]
  },
  {
   "cell_type": "code",
   "execution_count": 136,
   "metadata": {},
   "outputs": [
    {
     "ename": "IndexError",
     "evalue": "no such group",
     "output_type": "error",
     "traceback": [
      "\u001b[1;31m---------------------------------------------------------------------------\u001b[0m",
      "\u001b[1;31mIndexError\u001b[0m                                Traceback (most recent call last)",
      "\u001b[1;32m<ipython-input-136-88acecccb001>\u001b[0m in \u001b[0;36m<module>\u001b[1;34m\u001b[0m\n\u001b[1;32m----> 1\u001b[1;33m \u001b[0mm\u001b[0m\u001b[1;33m.\u001b[0m\u001b[0mgroup\u001b[0m\u001b[1;33m(\u001b[0m\u001b[1;36m2\u001b[0m\u001b[1;33m)\u001b[0m\u001b[1;33m\u001b[0m\u001b[1;33m\u001b[0m\u001b[0m\n\u001b[0m",
      "\u001b[1;31mIndexError\u001b[0m: no such group"
     ]
    }
   ],
   "source": [
    "m.group(2)"
   ]
  },
  {
   "cell_type": "markdown",
   "metadata": {},
   "source": [
    "-m.group(o)\n",
    "    -매칭된 모든 문자열\n",
    "-m.group(1)\n",
    "    -첫번째 그룹의 문자열\n",
    "-m.group(2)\n",
    "    -두번째 그룹의 문자열\n",
    "-m.group(n)\n",
    "    -n 번째 그룹의 문자열"
   ]
  },
  {
   "cell_type": "code",
   "execution_count": 137,
   "metadata": {},
   "outputs": [],
   "source": [
    "#이표현대로 문자열을  표현한다면?\n",
    "p=re.compile(r'\\w+\\s+\\d+[-]\\d+[-]\\d+')"
   ]
  },
  {
   "cell_type": "code",
   "execution_count": 140,
   "metadata": {},
   "outputs": [],
   "source": [
    "m=p.search('부산대역 010-1234-5678 abcd')"
   ]
  },
  {
   "cell_type": "code",
   "execution_count": 141,
   "metadata": {},
   "outputs": [
    {
     "data": {
      "text/plain": [
       "'부산대역 010-1234-5678'"
      ]
     },
     "execution_count": 141,
     "metadata": {},
     "output_type": "execute_result"
    }
   ],
   "source": [
    "m.group()"
   ]
  },
  {
   "cell_type": "code",
   "execution_count": 142,
   "metadata": {},
   "outputs": [
    {
     "data": {
      "text/plain": [
       "()"
      ]
     },
     "execution_count": 142,
     "metadata": {},
     "output_type": "execute_result"
    }
   ],
   "source": [
    "m.groups()\n",
    "#그룹이 없다->정규식에 그룹화 표현이 없다"
   ]
  },
  {
   "cell_type": "code",
   "execution_count": 144,
   "metadata": {},
   "outputs": [
    {
     "data": {
      "text/plain": [
       "'부산대역 010-1234-5678'"
      ]
     },
     "execution_count": 144,
     "metadata": {},
     "output_type": "execute_result"
    }
   ],
   "source": [
    "m.group(0)"
   ]
  },
  {
   "cell_type": "code",
   "execution_count": 145,
   "metadata": {},
   "outputs": [
    {
     "data": {
      "text/plain": [
       "'1234'"
      ]
     },
     "execution_count": 145,
     "metadata": {},
     "output_type": "execute_result"
    }
   ],
   "source": [
    "#전화번호중 가운데 번호 획득\n",
    "m.group().split()[1].split('-')[1]"
   ]
  },
  {
   "cell_type": "code",
   "execution_count": 146,
   "metadata": {},
   "outputs": [],
   "source": [
    "#위의 방식은 정규식 자체가 그룹화 되지 않아서\n",
    "#세부 정보를 취할수가 없다 그룹화를 이용하면\n",
    "#상세정보를 그룹별로 취할수가 있어서 데이터를 획득하기가 용이하다"
   ]
  },
  {
   "cell_type": "code",
   "execution_count": 151,
   "metadata": {},
   "outputs": [],
   "source": [
    "p=re.compile(r'(\\w+)\\s+(\\d+[-]\\d+[-]\\d+)')\n",
    "m=p.search('부산대역 010-1234-5678 부산대역2 011-1235-5679')"
   ]
  },
  {
   "cell_type": "code",
   "execution_count": 148,
   "metadata": {},
   "outputs": [
    {
     "data": {
      "text/plain": [
       "('부산대역 010-1234-5678', '부산대역', '010-1234-5678')"
      ]
     },
     "execution_count": 148,
     "metadata": {},
     "output_type": "execute_result"
    }
   ],
   "source": [
    "m.group(),m.group(1),m.group(2)"
   ]
  },
  {
   "cell_type": "code",
   "execution_count": 150,
   "metadata": {},
   "outputs": [
    {
     "name": "stdout",
     "output_type": "stream",
     "text": [
      "부산대역\n",
      "010-1234-5678\n"
     ]
    }
   ],
   "source": [
    "for n in range(1,len(m.groups())+1):\n",
    "    print(m.group(n))"
   ]
  },
  {
   "cell_type": "code",
   "execution_count": 152,
   "metadata": {},
   "outputs": [],
   "source": [
    "#전화번호 상세 정보가 그룹화 되어 있지 않다\n",
    "#그룹안에 그룹화 처리를 하면 자동 분류가 된다\n",
    "\n",
    "p=re.compile(r'(\\w+)\\s+((\\d+)[-](\\d+)[-](\\d))')\n",
    "m=p.search('부산대역 010-1234-5678')"
   ]
  },
  {
   "cell_type": "code",
   "execution_count": 153,
   "metadata": {},
   "outputs": [
    {
     "data": {
      "text/plain": [
       "('부산대역', '010-1234-5', '010', '1234', '5')"
      ]
     },
     "execution_count": 153,
     "metadata": {},
     "output_type": "execute_result"
    }
   ],
   "source": [
    "m.groups()"
   ]
  },
  {
   "cell_type": "code",
   "execution_count": 154,
   "metadata": {},
   "outputs": [
    {
     "ename": "SyntaxError",
     "evalue": "invalid syntax (<ipython-input-154-8b24e687fad5>, line 1)",
     "output_type": "error",
     "traceback": [
      "\u001b[1;36m  File \u001b[1;32m\"<ipython-input-154-8b24e687fad5>\"\u001b[1;36m, line \u001b[1;32m1\u001b[0m\n\u001b[1;33m    for n in range(1, len(m.groups())+1)\u001b[0m\n\u001b[1;37m                                        ^\u001b[0m\n\u001b[1;31mSyntaxError\u001b[0m\u001b[1;31m:\u001b[0m invalid syntax\n"
     ]
    }
   ],
   "source": [
    "for n in range(1, len(m.groups())+1):"
   ]
  },
  {
   "cell_type": "markdown",
   "metadata": {},
   "source": [
    "####그루핑된 문자열의 재참조\n",
    "\n",
    "-그룹핑: 첫번째그룹,두번째 그룹, 세번째 그룹...\n",
    "-\\1,\\2,\\3..."
   ]
  },
  {
   "cell_type": "code",
   "execution_count": 161,
   "metadata": {},
   "outputs": [],
   "source": [
    "#자기 참조는 정규식 형태도 일치하면서, 값도 일치경우\n",
    "\n",
    "p=re.compile(r'(\\b\\w+)\\s+\\1')\n",
    "m=p.search('python numpy pandas pandas scipy tensorflow')"
   ]
  },
  {
   "cell_type": "code",
   "execution_count": 162,
   "metadata": {},
   "outputs": [
    {
     "data": {
      "text/plain": [
       "'pandas pandas'"
      ]
     },
     "execution_count": 162,
     "metadata": {},
     "output_type": "execute_result"
    }
   ],
   "source": [
    "m.group()"
   ]
  },
  {
   "cell_type": "code",
   "execution_count": 164,
   "metadata": {},
   "outputs": [
    {
     "data": {
      "text/plain": [
       "('pandas',)"
      ]
     },
     "execution_count": 164,
     "metadata": {},
     "output_type": "execute_result"
    }
   ],
   "source": [
    "m.groups()"
   ]
  },
  {
   "cell_type": "code",
   "execution_count": 169,
   "metadata": {},
   "outputs": [],
   "source": [
    "#(?p<이름>정규식)\n",
    "p=re.compile(r'(?P<NAME>\\w+)\\s+((\\d+)[-](\\d+)[-](\\d))')\n",
    "m=p.search('부산대역 010-1234-5678')"
   ]
  },
  {
   "cell_type": "code",
   "execution_count": 170,
   "metadata": {},
   "outputs": [
    {
     "data": {
      "text/plain": [
       "('부산대역', '010-1234-5', '010', '1234', '5')"
      ]
     },
     "execution_count": 170,
     "metadata": {},
     "output_type": "execute_result"
    }
   ],
   "source": [
    "m.groups()"
   ]
  },
  {
   "cell_type": "code",
   "execution_count": 171,
   "metadata": {},
   "outputs": [
    {
     "data": {
      "text/plain": [
       "('부산대역', '부산대역')"
      ]
     },
     "execution_count": 171,
     "metadata": {},
     "output_type": "execute_result"
    }
   ],
   "source": [
    "m.group(1),m.group('NAME')"
   ]
  },
  {
   "cell_type": "markdown",
   "metadata": {},
   "source": [
    "####자기 참조를 했는데 이름이 있다"
   ]
  },
  {
   "cell_type": "code",
   "execution_count": 172,
   "metadata": {},
   "outputs": [],
   "source": [
    "#자기참조 그룹의 이름으로 자기참조를 수행하는 방법\n",
    "#(?P=이름)\n",
    "p=re.compile(r'(?P<BS>\\b\\w+)\\s+(?P=BS)')\n",
    "m=p.search('python numpy pandas pandas scipy tensorflow')"
   ]
  },
  {
   "cell_type": "code",
   "execution_count": 174,
   "metadata": {},
   "outputs": [
    {
     "data": {
      "text/plain": [
       "<re.Match object; span=(13, 26), match='pandas pandas'>"
      ]
     },
     "execution_count": 174,
     "metadata": {},
     "output_type": "execute_result"
    }
   ],
   "source": [
    "m"
   ]
  },
  {
   "cell_type": "markdown",
   "metadata": {},
   "source": [
    "###컴파일 옵션\n",
    "\n",
    "-re.compile('정규식'.옵션)\n",
    "-DOTALL,S\n",
    "    -모든 문자 대비(\\n 제외)=>\n",
    "    -모든 문자 대비(\\n 포함)\n",
    "-IGNORECASE, I\n",
    "    -대소문자 구분없이 매칭\n",
    "-MULTILINE, M\n",
    "-VERBOSE, X\n",
    "    -복잡한 정규식을 사용하면 해석이 어렵다\n",
    "    -정규식을 펼쳐서 각표현별로 주석을 달거나 등등 할 수 있다"
   ]
  },
  {
   "cell_type": "markdown",
   "metadata": {},
   "source": [
    "####DOTALL,S"
   ]
  },
  {
   "cell_type": "code",
   "execution_count": 1,
   "metadata": {},
   "outputs": [
    {
     "ename": "NameError",
     "evalue": "name 're' is not defined",
     "output_type": "error",
     "traceback": [
      "\u001b[1;31m---------------------------------------------------------------------------\u001b[0m",
      "\u001b[1;31mNameError\u001b[0m                                 Traceback (most recent call last)",
      "\u001b[1;32m<ipython-input-1-273983ae1bf2>\u001b[0m in \u001b[0;36m<module>\u001b[1;34m\u001b[0m\n\u001b[1;32m----> 1\u001b[1;33m \u001b[0mp\u001b[0m\u001b[1;33m=\u001b[0m\u001b[0mre\u001b[0m\u001b[1;33m.\u001b[0m\u001b[0mcompile\u001b[0m\u001b[1;33m(\u001b[0m\u001b[1;34m'a.b'\u001b[0m\u001b[1;33m)\u001b[0m\u001b[1;33m\u001b[0m\u001b[1;33m\u001b[0m\u001b[0m\n\u001b[0m\u001b[0;32m      2\u001b[0m \u001b[0mprint\u001b[0m\u001b[1;33m(\u001b[0m\u001b[0mp\u001b[0m\u001b[1;33m.\u001b[0m\u001b[0mmatch\u001b[0m\u001b[1;33m(\u001b[0m\u001b[1;34m'a|b'\u001b[0m\u001b[1;33m)\u001b[0m\u001b[1;33m.\u001b[0m\u001b[0mgroup\u001b[0m\u001b[1;33m(\u001b[0m\u001b[1;33m)\u001b[0m\u001b[1;33m)\u001b[0m\u001b[1;33m\u001b[0m\u001b[1;33m\u001b[0m\u001b[0m\n\u001b[0;32m      3\u001b[0m \u001b[0mprint\u001b[0m\u001b[1;33m(\u001b[0m\u001b[0mp\u001b[0m\u001b[1;33m.\u001b[0m\u001b[0mmatch\u001b[0m\u001b[1;33m(\u001b[0m\u001b[1;34m'a\\nb'\u001b[0m\u001b[1;33m)\u001b[0m\u001b[1;33m)\u001b[0m\u001b[1;33m\u001b[0m\u001b[1;33m\u001b[0m\u001b[0m\n\u001b[0;32m      4\u001b[0m \u001b[0mprint\u001b[0m\u001b[1;33m(\u001b[0m\u001b[0mp\u001b[0m\u001b[1;33m.\u001b[0m\u001b[0mmatch\u001b[0m\u001b[1;33m(\u001b[0m\u001b[1;34m'a\\tb'\u001b[0m\u001b[1;33m)\u001b[0m\u001b[1;33m.\u001b[0m\u001b[0mgroup\u001b[0m\u001b[1;33m(\u001b[0m\u001b[1;33m)\u001b[0m\u001b[1;33m)\u001b[0m\u001b[1;33m\u001b[0m\u001b[1;33m\u001b[0m\u001b[0m\n\u001b[0;32m      5\u001b[0m \u001b[0mprint\u001b[0m\u001b[1;33m(\u001b[0m\u001b[0mp\u001b[0m\u001b[1;33m.\u001b[0m\u001b[0mmatch\u001b[0m\u001b[1;33m(\u001b[0m\u001b[1;34m'acb'\u001b[0m\u001b[1;33m)\u001b[0m\u001b[1;33m.\u001b[0m\u001b[0mgroup\u001b[0m\u001b[1;33m(\u001b[0m\u001b[1;33m)\u001b[0m\u001b[1;33m)\u001b[0m\u001b[1;33m\u001b[0m\u001b[1;33m\u001b[0m\u001b[0m\n",
      "\u001b[1;31mNameError\u001b[0m: name 're' is not defined"
     ]
    }
   ],
   "source": [
    "p=re.compile('a.b')\n",
    "print(p.match('a|b').group())\n",
    "print(p.match('a\\nb'))\n",
    "print(p.match('a\\tb').group())\n",
    "print(p.match('acb').group())"
   ]
  },
  {
   "cell_type": "code",
   "execution_count": 3,
   "metadata": {},
   "outputs": [
    {
     "ename": "NameError",
     "evalue": "name 're' is not defined",
     "output_type": "error",
     "traceback": [
      "\u001b[1;31m---------------------------------------------------------------------------\u001b[0m",
      "\u001b[1;31mNameError\u001b[0m                                 Traceback (most recent call last)",
      "\u001b[1;32m<ipython-input-3-3afd11cc6e23>\u001b[0m in \u001b[0;36m<module>\u001b[1;34m\u001b[0m\n\u001b[1;32m----> 1\u001b[1;33m \u001b[0mp\u001b[0m\u001b[1;33m=\u001b[0m\u001b[0mre\u001b[0m\u001b[1;33m.\u001b[0m\u001b[0mcompile\u001b[0m\u001b[1;33m(\u001b[0m\u001b[1;34m'a.b'\u001b[0m\u001b[1;33m,\u001b[0m\u001b[0mre\u001b[0m\u001b[1;33m.\u001b[0m\u001b[0mS\u001b[0m\u001b[1;33m)\u001b[0m\u001b[1;33m\u001b[0m\u001b[1;33m\u001b[0m\u001b[0m\n\u001b[0m\u001b[0;32m      2\u001b[0m \u001b[0mprint\u001b[0m\u001b[1;33m(\u001b[0m\u001b[0mp\u001b[0m\u001b[1;33m.\u001b[0m\u001b[0mmatch\u001b[0m\u001b[1;33m(\u001b[0m\u001b[1;34m'a|b'\u001b[0m\u001b[1;33m)\u001b[0m\u001b[1;33m.\u001b[0m\u001b[0mgroup\u001b[0m\u001b[1;33m(\u001b[0m\u001b[1;33m)\u001b[0m\u001b[1;33m)\u001b[0m\u001b[1;33m\u001b[0m\u001b[1;33m\u001b[0m\u001b[0m\n\u001b[0;32m      3\u001b[0m \u001b[0mprint\u001b[0m\u001b[1;33m(\u001b[0m\u001b[0mp\u001b[0m\u001b[1;33m.\u001b[0m\u001b[0mmatch\u001b[0m\u001b[1;33m(\u001b[0m\u001b[1;34m'a\\nb'\u001b[0m\u001b[1;33m)\u001b[0m\u001b[1;33m.\u001b[0m\u001b[0mgroup\u001b[0m\u001b[1;33m(\u001b[0m\u001b[1;33m)\u001b[0m\u001b[1;33m)\u001b[0m\u001b[1;33m\u001b[0m\u001b[1;33m\u001b[0m\u001b[0m\n",
      "\u001b[1;31mNameError\u001b[0m: name 're' is not defined"
     ]
    }
   ],
   "source": [
    "p=re.compile('a.b',re.S)\n",
    "print(p.match('a|b').group())\n",
    "print(p.match('a\\nb').group())\n"
   ]
  },
  {
   "cell_type": "markdown",
   "metadata": {},
   "source": [
    "###IGNORECASE,I"
   ]
  },
  {
   "cell_type": "code",
   "execution_count": 4,
   "metadata": {},
   "outputs": [
    {
     "ename": "NameError",
     "evalue": "name 're' is not defined",
     "output_type": "error",
     "traceback": [
      "\u001b[1;31m---------------------------------------------------------------------------\u001b[0m",
      "\u001b[1;31mNameError\u001b[0m                                 Traceback (most recent call last)",
      "\u001b[1;32m<ipython-input-4-ff81d511aa70>\u001b[0m in \u001b[0;36m<module>\u001b[1;34m\u001b[0m\n\u001b[1;32m----> 1\u001b[1;33m \u001b[0mp\u001b[0m\u001b[1;33m=\u001b[0m\u001b[0mre\u001b[0m\u001b[1;33m.\u001b[0m\u001b[0mcompile\u001b[0m\u001b[1;33m(\u001b[0m\u001b[1;34m'[a-z]'\u001b[0m\u001b[1;33m)\u001b[0m\u001b[1;33m\u001b[0m\u001b[1;33m\u001b[0m\u001b[0m\n\u001b[0m\u001b[0;32m      2\u001b[0m \u001b[0mprint\u001b[0m\u001b[1;33m(\u001b[0m\u001b[0mp\u001b[0m\u001b[1;33m.\u001b[0m\u001b[0mmatch\u001b[0m\u001b[1;33m(\u001b[0m\u001b[1;34m'python'\u001b[0m\u001b[1;33m)\u001b[0m\u001b[1;33m.\u001b[0m\u001b[0mgroup\u001b[0m\u001b[1;33m(\u001b[0m\u001b[1;33m)\u001b[0m\u001b[1;33m)\u001b[0m\u001b[1;33m\u001b[0m\u001b[1;33m\u001b[0m\u001b[0m\n\u001b[0;32m      3\u001b[0m \u001b[0mprint\u001b[0m\u001b[1;33m(\u001b[0m\u001b[0mp\u001b[0m\u001b[1;33m.\u001b[0m\u001b[0mmatch\u001b[0m\u001b[1;33m(\u001b[0m\u001b[1;34m'Python'\u001b[0m\u001b[1;33m)\u001b[0m\u001b[1;33m)\u001b[0m\u001b[1;33m\u001b[0m\u001b[1;33m\u001b[0m\u001b[0m\n\u001b[0;32m      4\u001b[0m \u001b[0mprint\u001b[0m\u001b[1;33m(\u001b[0m\u001b[0mp\u001b[0m\u001b[1;33m.\u001b[0m\u001b[0mmatch\u001b[0m\u001b[1;33m(\u001b[0m\u001b[1;34m'PYTHON'\u001b[0m\u001b[1;33m)\u001b[0m\u001b[1;33m)\u001b[0m\u001b[1;33m\u001b[0m\u001b[1;33m\u001b[0m\u001b[0m\n",
      "\u001b[1;31mNameError\u001b[0m: name 're' is not defined"
     ]
    }
   ],
   "source": [
    "p=re.compile('[a-z]')\n",
    "print(p.match('python').group())\n",
    "print(p.match('Python'))\n",
    "print(p.match('PYTHON'))"
   ]
  },
  {
   "cell_type": "code",
   "execution_count": null,
   "metadata": {},
   "outputs": [],
   "source": [
    "p=re.compile('[a-z]'re.I)\n",
    "\n",
    "print(p.match('python').group())\n",
    "print(p.match('Python'))\n",
    "print(p.match('1PYTHON'))"
   ]
  },
  {
   "cell_type": "markdown",
   "metadata": {},
   "source": [
    "####VERBOSE,X"
   ]
  },
  {
   "cell_type": "code",
   "execution_count": 5,
   "metadata": {},
   "outputs": [
    {
     "ename": "NameError",
     "evalue": "name 're' is not defined",
     "output_type": "error",
     "traceback": [
      "\u001b[1;31m---------------------------------------------------------------------------\u001b[0m",
      "\u001b[1;31mNameError\u001b[0m                                 Traceback (most recent call last)",
      "\u001b[1;32m<ipython-input-5-4ce809def6bc>\u001b[0m in \u001b[0;36m<module>\u001b[1;34m\u001b[0m\n\u001b[0;32m      1\u001b[0m \u001b[1;31m#정규식을 이해하는데 시간이 걸린다\u001b[0m\u001b[1;33m\u001b[0m\u001b[1;33m\u001b[0m\u001b[1;33m\u001b[0m\u001b[0m\n\u001b[1;32m----> 2\u001b[1;33m \u001b[0mx\u001b[0m\u001b[1;33m=\u001b[0m\u001b[0mre\u001b[0m\u001b[1;33m.\u001b[0m\u001b[0mcompile\u001b[0m\u001b[1;33m(\u001b[0m\u001b[1;34mr'(0[0-7]+|[0-9]+|x[0-9a-fA-F]+);'\u001b[0m\u001b[1;33m)\u001b[0m\u001b[1;33m\u001b[0m\u001b[1;33m\u001b[0m\u001b[0m\n\u001b[0m",
      "\u001b[1;31mNameError\u001b[0m: name 're' is not defined"
     ]
    }
   ],
   "source": [
    "#정규식을 이해하는데 시간이 걸린다\n",
    "x=re.compile(r'(0[0-7]+|[0-9]+|x[0-9a-fA-F]+);')\n"
   ]
  },
  {
   "cell_type": "code",
   "execution_count": null,
   "metadata": {},
   "outputs": [],
   "source": [
    "x=re.compile(r\"\"\"\n",
    "(                   #그룹핑 시작      \n",
    "    0[0-7]+         #8진수\n",
    "    |               #or 혹은\n",
    "    [0-9]+          #10진수\n",
    "    |               #or 혹은\n",
    "    x[0-9a-fA-F]+   #16진수\n",
    ")                   #그룹핑 끝\n",
    ";\n",
    "\"\"\" ,re.VERBOSE)"
   ]
  },
  {
   "cell_type": "markdown",
   "metadata": {},
   "source": [
    "###전방탐색(Lookahead Asserions)\n",
    "\n",
    "-Positive(긍정)\n",
    "    -긍정형 전방 탐색(?=..)\n",
    "-Negative(부정)\n",
    "    -부정형 전방 탐색(?!..)"
   ]
  },
  {
   "cell_type": "code",
   "execution_count": null,
   "metadata": {},
   "outputs": [],
   "source": [
    "#http://ID:PW@m.naver.com\n",
    "#OSI 7 Layer의 3/4계층 TCP/IP의 프로토콜 규격\n",
    "#실습=http를 획득해라\n",
    "#http://m.naver.com"
   ]
  },
  {
   "cell_type": "code",
   "execution_count": 6,
   "metadata": {},
   "outputs": [
    {
     "ename": "NameError",
     "evalue": "name 're' is not defined",
     "output_type": "error",
     "traceback": [
      "\u001b[1;31m---------------------------------------------------------------------------\u001b[0m",
      "\u001b[1;31mNameError\u001b[0m                                 Traceback (most recent call last)",
      "\u001b[1;32m<ipython-input-6-3e836d859bf2>\u001b[0m in \u001b[0;36m<module>\u001b[1;34m\u001b[0m\n\u001b[1;32m----> 1\u001b[1;33m \u001b[0mp\u001b[0m\u001b[1;33m=\u001b[0m\u001b[0mre\u001b[0m\u001b[1;33m.\u001b[0m\u001b[0mcompile\u001b[0m\u001b[1;33m(\u001b[0m\u001b[1;34m'.+:'\u001b[0m\u001b[1;33m)\u001b[0m\u001b[1;33m\u001b[0m\u001b[1;33m\u001b[0m\u001b[0m\n\u001b[0m\u001b[0;32m      2\u001b[0m \u001b[0mm\u001b[0m\u001b[1;33m=\u001b[0m\u001b[0mp\u001b[0m\u001b[1;33m.\u001b[0m\u001b[0msearch\u001b[0m\u001b[1;33m(\u001b[0m\u001b[1;34m'http://m.naver.com'\u001b[0m\u001b[1;33m)\u001b[0m\u001b[1;33m\u001b[0m\u001b[1;33m\u001b[0m\u001b[0m\n\u001b[0;32m      3\u001b[0m \u001b[0mm\u001b[0m\u001b[1;33m.\u001b[0m\u001b[0mgroup\u001b[0m\u001b[1;33m(\u001b[0m\u001b[1;33m)\u001b[0m\u001b[1;33m\u001b[0m\u001b[1;33m\u001b[0m\u001b[0m\n",
      "\u001b[1;31mNameError\u001b[0m: name 're' is not defined"
     ]
    }
   ],
   "source": [
    "p=re.compile('.+:')\n",
    "m=p.search('http://m.naver.com')\n",
    "m.group()"
   ]
  },
  {
   "cell_type": "code",
   "execution_count": 7,
   "metadata": {},
   "outputs": [
    {
     "ename": "NameError",
     "evalue": "name 're' is not defined",
     "output_type": "error",
     "traceback": [
      "\u001b[1;31m---------------------------------------------------------------------------\u001b[0m",
      "\u001b[1;31mNameError\u001b[0m                                 Traceback (most recent call last)",
      "\u001b[1;32m<ipython-input-7-7fb86410f24a>\u001b[0m in \u001b[0;36m<module>\u001b[1;34m\u001b[0m\n\u001b[0;32m      4\u001b[0m \u001b[1;31m#긍정형 전방 탐색\u001b[0m\u001b[1;33m\u001b[0m\u001b[1;33m\u001b[0m\u001b[1;33m\u001b[0m\u001b[0m\n\u001b[0;32m      5\u001b[0m \u001b[1;31m#여기서는:을 기준으로 앞쪽을 탐색한다\u001b[0m\u001b[1;33m\u001b[0m\u001b[1;33m\u001b[0m\u001b[1;33m\u001b[0m\u001b[0m\n\u001b[1;32m----> 6\u001b[1;33m \u001b[0mp\u001b[0m\u001b[1;33m=\u001b[0m\u001b[0mre\u001b[0m\u001b[1;33m.\u001b[0m\u001b[0mcompile\u001b[0m\u001b[1;33m(\u001b[0m\u001b[1;34m'.+(?=:)'\u001b[0m\u001b[1;33m)\u001b[0m\u001b[1;33m\u001b[0m\u001b[1;33m\u001b[0m\u001b[0m\n\u001b[0m\u001b[0;32m      7\u001b[0m \u001b[0mm\u001b[0m\u001b[1;33m=\u001b[0m\u001b[0mp\u001b[0m\u001b[1;33m.\u001b[0m\u001b[0msearch\u001b[0m\u001b[1;33m(\u001b[0m\u001b[1;34m'http://m.naver.com'\u001b[0m\u001b[1;33m)\u001b[0m\u001b[1;33m\u001b[0m\u001b[1;33m\u001b[0m\u001b[0m\n\u001b[0;32m      8\u001b[0m \u001b[0mm\u001b[0m\u001b[1;33m.\u001b[0m\u001b[0mgroup\u001b[0m\u001b[1;33m(\u001b[0m\u001b[1;33m)\u001b[0m\u001b[1;33m\u001b[0m\u001b[1;33m\u001b[0m\u001b[0m\n",
      "\u001b[1;31mNameError\u001b[0m: name 're' is not defined"
     ]
    }
   ],
   "source": [
    "# http,https, smtp, ftp등 프로토콜명만 원한다\n",
    "#전방탐색은 정규식 표현이 까다롭고, 그룹퐁 적용도 다소 어려움\n",
    "#다소 어려운 조건일 경우 사용\n",
    "#긍정형 전방 탐색\n",
    "#여기서는:을 기준으로 앞쪽을 탐색한다\n",
    "p=re.compile('.+(?=:)')\n",
    "m=p.search('http://m.naver.com')\n",
    "m.group()"
   ]
  },
  {
   "cell_type": "code",
   "execution_count": null,
   "metadata": {},
   "outputs": [],
   "source": [
    "#부정형\n",
    "#.*[.].*$ =>파일명\n",
    "#이런 정규식에서 확장자중에 py,msi가 들어간 파일은 제외\n",
    "#부정형 전방 탐색"
   ]
  },
  {
   "cell_type": "code",
   "execution_count": 8,
   "metadata": {},
   "outputs": [
    {
     "ename": "NameError",
     "evalue": "name 're' is not defined",
     "output_type": "error",
     "traceback": [
      "\u001b[1;31m---------------------------------------------------------------------------\u001b[0m",
      "\u001b[1;31mNameError\u001b[0m                                 Traceback (most recent call last)",
      "\u001b[1;32m<ipython-input-8-5a8855201c65>\u001b[0m in \u001b[0;36m<module>\u001b[1;34m\u001b[0m\n\u001b[1;32m----> 1\u001b[1;33m \u001b[0mp\u001b[0m\u001b[1;33m=\u001b[0m\u001b[0mre\u001b[0m\u001b[1;33m.\u001b[0m\u001b[0mcompile\u001b[0m\u001b[1;33m(\u001b[0m\u001b[1;34m'.*[.](?!py$|msi$).*$'\u001b[0m\u001b[1;33m)\u001b[0m\u001b[1;33m\u001b[0m\u001b[1;33m\u001b[0m\u001b[0m\n\u001b[0m",
      "\u001b[1;31mNameError\u001b[0m: name 're' is not defined"
     ]
    }
   ],
   "source": [
    "p=re.compile('.*[.](?!py$|msi$).*$')"
   ]
  },
  {
   "cell_type": "code",
   "execution_count": null,
   "metadata": {},
   "outputs": [],
   "source": [
    "p.search('a.hwp'),group()"
   ]
  },
  {
   "cell_type": "markdown",
   "metadata": {},
   "source": [
    "####실습\n",
    "\n",
    "-주민번호 필터링\n",
    "-000101-5123456=>000101-*******"
   ]
  },
  {
   "cell_type": "code",
   "execution_count": 1,
   "metadata": {},
   "outputs": [
    {
     "ename": "NameError",
     "evalue": "name 're' is not defined",
     "output_type": "error",
     "traceback": [
      "\u001b[1;31m---------------------------------------------------------------------------\u001b[0m",
      "\u001b[1;31mNameError\u001b[0m                                 Traceback (most recent call last)",
      "\u001b[1;32m<ipython-input-1-fa062a960643>\u001b[0m in \u001b[0;36m<module>\u001b[1;34m\u001b[0m\n\u001b[0;32m      1\u001b[0m \u001b[1;31m#숫자의 의미를 분석하여 정규식을 정하는 부분은 제외\u001b[0m\u001b[1;33m\u001b[0m\u001b[1;33m\u001b[0m\u001b[1;33m\u001b[0m\u001b[0m\n\u001b[1;32m----> 2\u001b[1;33m \u001b[0mp\u001b[0m\u001b[1;33m=\u001b[0m\u001b[0mre\u001b[0m\u001b[1;33m.\u001b[0m\u001b[0mcompile\u001b[0m\u001b[1;33m(\u001b[0m\u001b[1;34m'(\\d{6})[-]\\d{7.7}'\u001b[0m\u001b[1;33m)\u001b[0m\u001b[1;33m\u001b[0m\u001b[1;33m\u001b[0m\u001b[0m\n\u001b[0m",
      "\u001b[1;31mNameError\u001b[0m: name 're' is not defined"
     ]
    }
   ],
   "source": [
    "#숫자의 의미를 분석하여 정규식을 정하는 부분은 제외\n",
    "p=re.compile('(\\d{6})[-]\\d{7.7}')"
   ]
  },
  {
   "cell_type": "code",
   "execution_count": 2,
   "metadata": {},
   "outputs": [],
   "source": [
    "data='''\n",
    "MBC 940101-1234567\n",
    "KBS 950101-1234567\n",
    "\n",
    "'''"
   ]
  },
  {
   "cell_type": "code",
   "execution_count": 5,
   "metadata": {},
   "outputs": [
    {
     "ename": "NameError",
     "evalue": "name 'p' is not defined",
     "output_type": "error",
     "traceback": [
      "\u001b[1;31m---------------------------------------------------------------------------\u001b[0m",
      "\u001b[1;31mNameError\u001b[0m                                 Traceback (most recent call last)",
      "\u001b[1;32m<ipython-input-5-86c3da486a6a>\u001b[0m in \u001b[0;36m<module>\u001b[1;34m\u001b[0m\n\u001b[0;32m      1\u001b[0m \u001b[1;31m#\\g<1>:1번 그룹 참조\u001b[0m\u001b[1;33m\u001b[0m\u001b[1;33m\u001b[0m\u001b[1;33m\u001b[0m\u001b[0m\n\u001b[1;32m----> 2\u001b[1;33m \u001b[0mprint\u001b[0m\u001b[1;33m(\u001b[0m \u001b[0mp\u001b[0m\u001b[1;33m.\u001b[0m\u001b[0msub\u001b[0m\u001b[1;33m(\u001b[0m \u001b[1;34m'\\g<1>-*******'\u001b[0m\u001b[1;33m,\u001b[0m\u001b[0mdata\u001b[0m\u001b[1;33m)\u001b[0m \u001b[1;33m)\u001b[0m\u001b[1;33m\u001b[0m\u001b[1;33m\u001b[0m\u001b[0m\n\u001b[0m",
      "\u001b[1;31mNameError\u001b[0m: name 'p' is not defined"
     ]
    }
   ],
   "source": [
    "#\\g<1>:1번 그룹 참조\n",
    "print( p.sub( '\\g<1>-*******',data) )"
   ]
  },
  {
   "cell_type": "code",
   "execution_count": 6,
   "metadata": {},
   "outputs": [
    {
     "ename": "NameError",
     "evalue": "name 're' is not defined",
     "output_type": "error",
     "traceback": [
      "\u001b[1;31m---------------------------------------------------------------------------\u001b[0m",
      "\u001b[1;31mNameError\u001b[0m                                 Traceback (most recent call last)",
      "\u001b[1;32m<ipython-input-6-eb1c3435b242>\u001b[0m in \u001b[0;36m<module>\u001b[1;34m\u001b[0m\n\u001b[1;32m----> 1\u001b[1;33m \u001b[0mp\u001b[0m\u001b[1;33m=\u001b[0m\u001b[0mre\u001b[0m\u001b[1;33m.\u001b[0m\u001b[0mcompile\u001b[0m\u001b[1;33m(\u001b[0m\u001b[1;34m''\u001b[0m\u001b[1;33m)\u001b[0m\u001b[1;33m\u001b[0m\u001b[1;33m\u001b[0m\u001b[0m\n\u001b[0m",
      "\u001b[1;31mNameError\u001b[0m: name 're' is not defined"
     ]
    }
   ],
   "source": [
    "p=re.compile('(\\d{6})[-]()')"
   ]
  },
  {
   "cell_type": "code",
   "execution_count": null,
   "metadata": {},
   "outputs": [],
   "source": []
  },
  {
   "cell_type": "code",
   "execution_count": null,
   "metadata": {},
   "outputs": [],
   "source": []
  },
  {
   "cell_type": "code",
   "execution_count": null,
   "metadata": {},
   "outputs": [],
   "source": []
  },
  {
   "cell_type": "code",
   "execution_count": null,
   "metadata": {},
   "outputs": [],
   "source": []
  },
  {
   "cell_type": "code",
   "execution_count": null,
   "metadata": {},
   "outputs": [],
   "source": []
  },
  {
   "cell_type": "code",
   "execution_count": null,
   "metadata": {},
   "outputs": [],
   "source": []
  }
 ],
 "metadata": {
  "kernelspec": {
   "display_name": "Python 3",
   "language": "python",
   "name": "python3"
  },
  "language_info": {
   "codemirror_mode": {
    "name": "ipython",
    "version": 3
   },
   "file_extension": ".py",
   "mimetype": "text/x-python",
   "name": "python",
   "nbconvert_exporter": "python",
   "pygments_lexer": "ipython3",
   "version": "3.7.4"
  }
 },
 "nbformat": 4,
 "nbformat_minor": 2
}
