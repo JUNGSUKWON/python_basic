{
 "cells": [
  {
   "cell_type": "markdown",
   "metadata": {},
   "source": [
    "###패키지\n",
    "-파이썬에서 만들수 있는 형태는 오직 2개이다\n",
    "    -모듈:*.py\n",
    "    -패키지:특정기능을 가진 모듈들을 모아둔 디렉토리\n",
    "-실습 구조\n",
    "    -현재 위치\n",
    "        ㄴ Mymath\n",
    "            ㄴ__init__.py\n",
    "            ㄴ metrix\n",
    "                ㄴ__init__.py\n",
    "                ㄴmod.py\n",
    "        ㄴ P7_모듈화_모듈가져오기_패키지_예외처리.ipynb(시작점,entrypoint,여기서부터 경로를 체크한다)\n",
    "        -"
   ]
  },
  {
   "cell_type": "markdown",
   "metadata": {},
   "source": [
    "###모듈가져오기&사용하기\n",
    "\n",
    "-case\n",
    "    -내가 작성하는 코드에 남이 만든 모듈을 가져다가 사용절차\n",
    "        -1.가져온다\n",
    "        -2.사용한다\n",
    "    -from 패키지명,패키지명....모듈명 import 변수,함수,클레스...\n",
    "    -from 패키지명,패키지명....모듈명 import*\n",
    "    -from 패키지명,패키지명....모듈명 import 변수 as 별칭\n",
    "    <br>\n",
    "    -from 패키지명,패키지명....패키지명 import 이하동문\n",
    "    <br>\n",
    "    -from 모듈명 import 이하동문\n",
    "    <br>\n",
    "    -import 패키지명,패키지명....모듈명 as 별칭\n",
    "    -import 패키지명,패키지명....패키지명 as 별칭\n",
    "    -import 모듈명"
   ]
  },
  {
   "cell_type": "code",
   "execution_count": 1,
   "metadata": {},
   "outputs": [],
   "source": [
    "# 모듈 가져오기\n",
    "from MyMath.metrix.mod import add, name"
   ]
  },
  {
   "cell_type": "code",
   "execution_count": 2,
   "metadata": {},
   "outputs": [
    {
     "data": {
      "text/plain": [
       "('17시30분', 3)"
      ]
     },
     "execution_count": 2,
     "metadata": {},
     "output_type": "execute_result"
    }
   ],
   "source": [
    "#from~사용하면, 사용한 코드를 보면 마치 내코드 처럼 사용된다\n",
    "name, add(1,2)"
   ]
  },
  {
   "cell_type": "code",
   "execution_count": 7,
   "metadata": {},
   "outputs": [],
   "source": [
    "#가져온 요소들중에 특정한 요소(변,함,클)의 이름을 별칭으로 대체\n",
    "from MyMath.metrix.mod import PI as MPI"
   ]
  },
  {
   "cell_type": "code",
   "execution_count": 8,
   "metadata": {},
   "outputs": [
    {
     "data": {
      "text/plain": [
       "3.14"
      ]
     },
     "execution_count": 8,
     "metadata": {},
     "output_type": "execute_result"
    }
   ],
   "source": [
    "MPI"
   ]
  },
  {
   "cell_type": "code",
   "execution_count": 9,
   "metadata": {},
   "outputs": [],
   "source": [
    "from MyMath.metrix.mod import*"
   ]
  },
  {
   "cell_type": "code",
   "execution_count": 10,
   "metadata": {},
   "outputs": [
    {
     "name": "stdout",
     "output_type": "stream",
     "text": [
      "생성\n"
     ]
    },
    {
     "data": {
      "text/plain": [
       "<MyMath.metrix.mod.A at 0x1a0469c9a48>"
      ]
     },
     "execution_count": 10,
     "metadata": {},
     "output_type": "execute_result"
    }
   ],
   "source": [
    "A()"
   ]
  },
  {
   "cell_type": "code",
   "execution_count": 11,
   "metadata": {},
   "outputs": [
    {
     "data": {
      "text/plain": [
       "5.29"
      ]
     },
     "execution_count": 11,
     "metadata": {},
     "output_type": "execute_result"
    }
   ],
   "source": [
    "#경로를 패키지로만 지정하면 마지막 패키지에 대응하는 __init__.py\n",
    "#에서 가져온다\n",
    "from MyMath.metrix import PI2\n",
    "PI2"
   ]
  },
  {
   "cell_type": "code",
   "execution_count": 12,
   "metadata": {},
   "outputs": [
    {
     "data": {
      "text/plain": [
       "'부산대역'"
      ]
     },
     "execution_count": 12,
     "metadata": {},
     "output_type": "execute_result"
    }
   ],
   "source": [
    "from MyMath import PI3\n",
    "PI3"
   ]
  },
  {
   "cell_type": "code",
   "execution_count": 13,
   "metadata": {},
   "outputs": [
    {
     "ename": "ModuleNotFoundError",
     "evalue": "No module named 'game_nocomment2_func_ending'",
     "output_type": "error",
     "traceback": [
      "\u001b[1;31m---------------------------------------------------------------------------\u001b[0m",
      "\u001b[1;31mModuleNotFoundError\u001b[0m                       Traceback (most recent call last)",
      "\u001b[1;32m<ipython-input-13-a5ad0bbf0d63>\u001b[0m in \u001b[0;36m<module>\u001b[1;34m\u001b[0m\n\u001b[0;32m      6\u001b[0m \u001b[1;33m\u001b[0m\u001b[0m\n\u001b[0;32m      7\u001b[0m \u001b[1;31m#test5.py\u001b[0m\u001b[1;33m\u001b[0m\u001b[1;33m\u001b[0m\u001b[1;33m\u001b[0m\u001b[0m\n\u001b[1;32m----> 8\u001b[1;33m \u001b[1;32mfrom\u001b[0m \u001b[0mgame_nocomment2_func_ending\u001b[0m \u001b[1;32mimport\u001b[0m \u001b[0mgame_level\u001b[0m\u001b[1;33m\u001b[0m\u001b[1;33m\u001b[0m\u001b[0m\n\u001b[0m\u001b[0;32m      9\u001b[0m \u001b[0mgame\u001b[0m\u001b[1;33m-\u001b[0m\u001b[0mlevel\u001b[0m\u001b[1;33m\u001b[0m\u001b[1;33m\u001b[0m\u001b[0m\n",
      "\u001b[1;31mModuleNotFoundError\u001b[0m: No module named 'game_nocomment2_func_ending'"
     ]
    }
   ],
   "source": [
    "#특정 모듈이 개발하면서 작성한 코드나,\n",
    "#단독 구동시 작동해야 하는 코드는 if__name__~내부로 처리\n",
    "#그외에 것은 바깥에 두어도 된다(정의하는 부분들)\n",
    "#왜냐하면 from~ 수행하면 해당 모듈이 메모리에 로드된다\n",
    "#경우에 따라서는 코드가 실행될수도 있으므로, 주의\n",
    "\n",
    "#test5.py\n",
    "from game_nocomment2_func_ending import game_level\n",
    "game-level"
   ]
  },
  {
   "cell_type": "code",
   "execution_count": 14,
   "metadata": {},
   "outputs": [
    {
     "data": {
      "text/plain": [
       "(3.14, 3)"
      ]
     },
     "execution_count": 14,
     "metadata": {},
     "output_type": "execute_result"
    }
   ],
   "source": [
    "import MyMath.metrix.mod as m\n",
    "m.PI,m.add(1,2)"
   ]
  },
  {
   "cell_type": "code",
   "execution_count": 15,
   "metadata": {},
   "outputs": [
    {
     "data": {
      "text/plain": [
       "'부산대역'"
      ]
     },
     "execution_count": 15,
     "metadata": {},
     "output_type": "execute_result"
    }
   ],
   "source": [
    "import MyMath\n",
    "MyMath.PI3"
   ]
  },
  {
   "cell_type": "code",
   "execution_count": null,
   "metadata": {},
   "outputs": [],
   "source": [
    "import "
   ]
  },
  {
   "cell_type": "code",
   "execution_count": null,
   "metadata": {},
   "outputs": [],
   "source": []
  },
  {
   "cell_type": "code",
   "execution_count": null,
   "metadata": {},
   "outputs": [],
   "source": []
  },
  {
   "cell_type": "code",
   "execution_count": null,
   "metadata": {},
   "outputs": [],
   "source": []
  },
  {
   "cell_type": "code",
   "execution_count": null,
   "metadata": {},
   "outputs": [],
   "source": []
  },
  {
   "cell_type": "code",
   "execution_count": 4,
   "metadata": {},
   "outputs": [
    {
     "ename": "SyntaxError",
     "evalue": "invalid syntax (mod.py, line 9)",
     "output_type": "error",
     "traceback": [
      "Traceback \u001b[1;36m(most recent call last)\u001b[0m:\n",
      "  File \u001b[0;32m\"C:\\Users\\admin\\Anaconda3\\lib\\site-packages\\IPython\\core\\interactiveshell.py\"\u001b[0m, line \u001b[0;32m3326\u001b[0m, in \u001b[0;35mrun_code\u001b[0m\n    exec(code_obj, self.user_global_ns, self.user_ns)\n",
      "\u001b[1;36m  File \u001b[1;32m\"<ipython-input-4-1d393f3a69a8>\"\u001b[1;36m, line \u001b[1;32m2\u001b[1;36m, in \u001b[1;35m<module>\u001b[1;36m\u001b[0m\n\u001b[1;33m    from MyMath.metrix.mod import PI as MPI\u001b[0m\n",
      "\u001b[1;36m  File \u001b[1;32m\"C:\\Users\\admin\\Desktop\\py_projects\\basic\\MyMath\\metrix\\mod.py\"\u001b[1;36m, line \u001b[1;32m9\u001b[0m\n\u001b[1;33m    def__init__(self):\u001b[0m\n\u001b[1;37m                      ^\u001b[0m\n\u001b[1;31mSyntaxError\u001b[0m\u001b[1;31m:\u001b[0m invalid syntax\n"
     ]
    }
   ],
   "source": [
    "#가져온 요소들중에 특정한 요소(변,함,글)의 이름을 별칭으로 대체\n",
    "from MyMath.metrix.mod import PI as MPI"
   ]
  },
  {
   "cell_type": "code",
   "execution_count": null,
   "metadata": {},
   "outputs": [],
   "source": []
  },
  {
   "cell_type": "code",
   "execution_count": null,
   "metadata": {},
   "outputs": [],
   "source": []
  },
  {
   "cell_type": "code",
   "execution_count": 2,
   "metadata": {},
   "outputs": [
    {
     "ename": "NameError",
     "evalue": "name 'MPI' is not defined",
     "output_type": "error",
     "traceback": [
      "\u001b[1;31m---------------------------------------------------------------------------\u001b[0m",
      "\u001b[1;31mNameError\u001b[0m                                 Traceback (most recent call last)",
      "\u001b[1;32m<ipython-input-2-e6d670127043>\u001b[0m in \u001b[0;36m<module>\u001b[1;34m\u001b[0m\n\u001b[0;32m      1\u001b[0m \u001b[1;31m#원래는 별칭을 부여하면 이전 이름을 사용못한다\u001b[0m\u001b[1;33m\u001b[0m\u001b[1;33m\u001b[0m\u001b[1;33m\u001b[0m\u001b[0m\n\u001b[0;32m      2\u001b[0m \u001b[1;31m#여기서는 위에서 댕겨서 그럴수도 있으니\u001b[0m\u001b[1;33m\u001b[0m\u001b[1;33m\u001b[0m\u001b[1;33m\u001b[0m\u001b[0m\n\u001b[1;32m----> 3\u001b[1;33m \u001b[0mMPI\u001b[0m\u001b[1;33m\u001b[0m\u001b[1;33m\u001b[0m\u001b[0m\n\u001b[0m",
      "\u001b[1;31mNameError\u001b[0m: name 'MPI' is not defined"
     ]
    }
   ],
   "source": [
    "#원래는 별칭을 부여하면 이전 이름을 사용못한다\n",
    "#여기서는 위에서 댕겨서 그럴수도 있으니 \n",
    "MPI"
   ]
  },
  {
   "cell_type": "code",
   "execution_count": null,
   "metadata": {},
   "outputs": [],
   "source": [
    "#경로를 패키지로만 지정하면 마지막 패키지에 대응하는 __init__.py\n",
    "#에서 가져온다\n",
    "from MyMath.metrix import PI2"
   ]
  },
  {
   "cell_type": "code",
   "execution_count": null,
   "metadata": {},
   "outputs": [],
   "source": [
    "#특정 모듈이 개발하면서 작성한 코드나,\n",
    "#단독 구동시 작동해야 하는 코드는 if__name__~내부러 처리\n",
    "#그외에 것은 바깥에 두어도 된다(정의하는 부분들)\n",
    "#왜냐하면 from~수행하면 해당 모듈이 메모리에 로드된다\n",
    "#경우에 따라서는 코드가 실행될수도 있으므로, 주의\n",
    "\n",
    "#t\n",
    "from game_nomcomment2_func_ending import game_level\n",
    "game_level"
   ]
  },
  {
   "cell_type": "code",
   "execution_count": null,
   "metadata": {},
   "outputs": [],
   "source": [
    "import MyMath.metrix.mod\n",
    "m. PI"
   ]
  },
  {
   "cell_type": "code",
   "execution_count": null,
   "metadata": {},
   "outputs": [],
   "source": [
    "import MyMath\n",
    "MyMath.P13"
   ]
  },
  {
   "cell_type": "code",
   "execution_count": null,
   "metadata": {},
   "outputs": [],
   "source": []
  },
  {
   "cell_type": "code",
   "execution_count": null,
   "metadata": {},
   "outputs": [],
   "source": [
    "예외처리\n",
    "     코드는 잠재적으로 오류를 가질수 있다\n",
    "     이때, s/w를 다운되지 않게하고, 혹은 그 정보를 수집하고,\n",
    "     "
   ]
  },
  {
   "cell_type": "code",
   "execution_count": 17,
   "metadata": {},
   "outputs": [
    {
     "name": "stdout",
     "output_type": "stream",
     "text": [
      "0\n",
      "1\n",
      "3 division by zero\n",
      "5\n",
      "6\n"
     ]
    }
   ],
   "source": [
    "print(0)\n",
    "try:\n",
    "    print(1)\n",
    "    print(1/0)\n",
    "    print(2)\n",
    "except Exception as e:\n",
    "    print(3,e)\n",
    "else:\n",
    "    print(4)\n",
    "finally:\n",
    "    print(5)\n",
    "print(6)"
   ]
  },
  {
   "cell_type": "code",
   "execution_count": 18,
   "metadata": {},
   "outputs": [
    {
     "name": "stdout",
     "output_type": "stream",
     "text": [
      "0\n",
      "1\n",
      "2\n",
      "4\n",
      "5\n",
      "6\n"
     ]
    }
   ],
   "source": [
    "print(0)\n",
    "try:\n",
    "    print(1)\n",
    "    #print(1/0)\n",
    "    print(2)\n",
    "except Exception as e:\n",
    "    print(3,e)\n",
    "else:\n",
    "    print(4)\n",
    "finally:\n",
    "    print(5)\n",
    "print(6)"
   ]
  },
  {
   "cell_type": "code",
   "execution_count": null,
   "metadata": {},
   "outputs": [],
   "source": []
  },
  {
   "cell_type": "code",
   "execution_count": null,
   "metadata": {},
   "outputs": [],
   "source": []
  },
  {
   "cell_type": "code",
   "execution_count": null,
   "metadata": {},
   "outputs": [],
   "source": []
  },
  {
   "cell_type": "code",
   "execution_count": null,
   "metadata": {},
   "outputs": [],
   "source": []
  },
  {
   "cell_type": "code",
   "execution_count": null,
   "metadata": {},
   "outputs": [],
   "source": []
  },
  {
   "cell_type": "code",
   "execution_count": null,
   "metadata": {},
   "outputs": [],
   "source": []
  },
  {
   "cell_type": "markdown",
   "metadata": {},
   "source": [
    "###패키지,모듈"
   ]
  },
  {
   "cell_type": "code",
   "execution_count": null,
   "metadata": {},
   "outputs": [],
   "source": []
  },
  {
   "cell_type": "code",
   "execution_count": null,
   "metadata": {},
   "outputs": [],
   "source": []
  },
  {
   "cell_type": "code",
   "execution_count": null,
   "metadata": {},
   "outputs": [],
   "source": []
  },
  {
   "cell_type": "code",
   "execution_count": null,
   "metadata": {},
   "outputs": [],
   "source": []
  },
  {
   "cell_type": "code",
   "execution_count": null,
   "metadata": {},
   "outputs": [],
   "source": []
  },
  {
   "cell_type": "markdown",
   "metadata": {},
   "source": [
    "###예외처리\n",
    "    -예외처리\n",
    "    -코드는 잠재적으로 오류를 가질 수 있다\n",
    "    -이때, s/w를 다운되지 않게하고, 혹은 그 정보를 수집하고, \n",
    "    -문제없이 다음 단계로 진행시키게 하는 방법"
   ]
  },
  {
   "cell_type": "code",
   "execution_count": null,
   "metadata": {},
   "outputs": [],
   "source": [
    "#case1 예외 발생시 코드 진행 확인\n",
    "print(0)\n",
    "try:#예외가 발생할 만한 코드를 감싼다\n",
    "    print(1)\n",
    "    print(1/0)\n",
    "    print(2)\n",
    "except Exception as e:#ㅇ예외가 발생하면 호출\n",
    "    print(3,e)\n",
    "else:    #예외없이 정상적으로 코드가 진행되면 호출\n",
    "    print(4)\n",
    "finally:#무조건 수행\n",
    "    print(5)\n",
    "print(6)\n"
   ]
  },
  {
   "cell_type": "code",
   "execution_count": null,
   "metadata": {},
   "outputs": [],
   "source": [
    "#case2 정상시 코드 진행 확인\n",
    "print(0)\n",
    "try:#예외가 발생할 만한 코드를 감싼다\n",
    "    print(1)\n",
    "    #print(1/0)\n",
    "    print(2)\n",
    "except Exception as e:#ㅇ예외가 발생하면 호출\n",
    "    print(3,e)\n",
    "else:    #예외없이 정상적으로 코드가 진행되면 호출\n",
    "    print(4)\n",
    "finally:#무조건 수행\n",
    "    print(5)\n",
    "print(6)"
   ]
  },
  {
   "cell_type": "code",
   "execution_count": null,
   "metadata": {},
   "outputs": [],
   "source": []
  },
  {
   "cell_type": "code",
   "execution_count": null,
   "metadata": {},
   "outputs": [],
   "source": []
  },
  {
   "cell_type": "code",
   "execution_count": null,
   "metadata": {},
   "outputs": [],
   "source": []
  },
  {
   "cell_type": "code",
   "execution_count": null,
   "metadata": {},
   "outputs": [],
   "source": []
  },
  {
   "cell_type": "code",
   "execution_count": null,
   "metadata": {},
   "outputs": [],
   "source": []
  },
  {
   "cell_type": "code",
   "execution_count": null,
   "metadata": {},
   "outputs": [],
   "source": []
  }
 ],
 "metadata": {
  "kernelspec": {
   "display_name": "Python 3",
   "language": "python",
   "name": "python3"
  },
  "language_info": {
   "codemirror_mode": {
    "name": "ipython",
    "version": 3
   },
   "file_extension": ".py",
   "mimetype": "text/x-python",
   "name": "python",
   "nbconvert_exporter": "python",
   "pygments_lexer": "ipython3",
   "version": "3.7.4"
  }
 },
 "nbformat": 4,
 "nbformat_minor": 2
}
